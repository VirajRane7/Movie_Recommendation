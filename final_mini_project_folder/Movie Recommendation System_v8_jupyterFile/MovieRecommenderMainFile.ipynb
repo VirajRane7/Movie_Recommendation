{
 "cells": [
  {
   "cell_type": "code",
   "execution_count": 7,
   "id": "34467499",
   "metadata": {},
   "outputs": [],
   "source": [
    "import pandas as pd\n",
    "import numpy as np"
   ]
  },
  {
   "cell_type": "code",
   "execution_count": 8,
   "id": "5f4a7a80",
   "metadata": {},
   "outputs": [],
   "source": [
    "movies = pd.read_csv('tmdb_5000_movies.csv')\n",
    "credits = pd.read_csv('tmdb_5000_credits.csv')\n",
    "posters = pd.read_csv('poster_links.csv', index_col=[0])"
   ]
  },
  {
   "cell_type": "code",
   "execution_count": 9,
   "id": "a804c01d",
   "metadata": {},
   "outputs": [
    {
     "data": {
      "text/html": [
       "<div>\n",
       "<style scoped>\n",
       "    .dataframe tbody tr th:only-of-type {\n",
       "        vertical-align: middle;\n",
       "    }\n",
       "\n",
       "    .dataframe tbody tr th {\n",
       "        vertical-align: top;\n",
       "    }\n",
       "\n",
       "    .dataframe thead th {\n",
       "        text-align: right;\n",
       "    }\n",
       "</style>\n",
       "<table border=\"1\" class=\"dataframe\">\n",
       "  <thead>\n",
       "    <tr style=\"text-align: right;\">\n",
       "      <th></th>\n",
       "      <th>id</th>\n",
       "      <th>poster_link_w185</th>\n",
       "      <th>poster_link_w342</th>\n",
       "      <th>poster_link_w154</th>\n",
       "    </tr>\n",
       "  </thead>\n",
       "  <tbody>\n",
       "    <tr>\n",
       "      <th>0</th>\n",
       "      <td>19995</td>\n",
       "      <td>https://image.tmdb.org/t/p/w185//jRXYjXNq0Cs2T...</td>\n",
       "      <td>https://image.tmdb.org/t/p/w342//jRXYjXNq0Cs2T...</td>\n",
       "      <td>https://image.tmdb.org/t/p/w154//jRXYjXNq0Cs2T...</td>\n",
       "    </tr>\n",
       "    <tr>\n",
       "      <th>1</th>\n",
       "      <td>285</td>\n",
       "      <td>https://image.tmdb.org/t/p/w185//jGWpG4YhpQwVm...</td>\n",
       "      <td>https://image.tmdb.org/t/p/w342//jGWpG4YhpQwVm...</td>\n",
       "      <td>https://image.tmdb.org/t/p/w154//jGWpG4YhpQwVm...</td>\n",
       "    </tr>\n",
       "    <tr>\n",
       "      <th>2</th>\n",
       "      <td>206647</td>\n",
       "      <td>https://image.tmdb.org/t/p/w185//672kUEMtTHcaV...</td>\n",
       "      <td>https://image.tmdb.org/t/p/w342//672kUEMtTHcaV...</td>\n",
       "      <td>https://image.tmdb.org/t/p/w154//672kUEMtTHcaV...</td>\n",
       "    </tr>\n",
       "    <tr>\n",
       "      <th>3</th>\n",
       "      <td>49026</td>\n",
       "      <td>https://image.tmdb.org/t/p/w185//85cWkCVftiVs0...</td>\n",
       "      <td>https://image.tmdb.org/t/p/w342//85cWkCVftiVs0...</td>\n",
       "      <td>https://image.tmdb.org/t/p/w154//85cWkCVftiVs0...</td>\n",
       "    </tr>\n",
       "    <tr>\n",
       "      <th>4</th>\n",
       "      <td>49529</td>\n",
       "      <td>https://image.tmdb.org/t/p/w185//lCxz1Yus07QCQ...</td>\n",
       "      <td>https://image.tmdb.org/t/p/w342//lCxz1Yus07QCQ...</td>\n",
       "      <td>https://image.tmdb.org/t/p/w154//lCxz1Yus07QCQ...</td>\n",
       "    </tr>\n",
       "    <tr>\n",
       "      <th>5</th>\n",
       "      <td>559</td>\n",
       "      <td>https://image.tmdb.org/t/p/w185//qFmwhVUoUSXjk...</td>\n",
       "      <td>https://image.tmdb.org/t/p/w342//qFmwhVUoUSXjk...</td>\n",
       "      <td>https://image.tmdb.org/t/p/w154//qFmwhVUoUSXjk...</td>\n",
       "    </tr>\n",
       "    <tr>\n",
       "      <th>6</th>\n",
       "      <td>38757</td>\n",
       "      <td>https://image.tmdb.org/t/p/w185//ym7Kst6a4uodr...</td>\n",
       "      <td>https://image.tmdb.org/t/p/w342//ym7Kst6a4uodr...</td>\n",
       "      <td>https://image.tmdb.org/t/p/w154//ym7Kst6a4uodr...</td>\n",
       "    </tr>\n",
       "    <tr>\n",
       "      <th>7</th>\n",
       "      <td>99861</td>\n",
       "      <td>https://image.tmdb.org/t/p/w185//4ssDuvEDkSArW...</td>\n",
       "      <td>https://image.tmdb.org/t/p/w342//4ssDuvEDkSArW...</td>\n",
       "      <td>https://image.tmdb.org/t/p/w154//4ssDuvEDkSArW...</td>\n",
       "    </tr>\n",
       "    <tr>\n",
       "      <th>8</th>\n",
       "      <td>767</td>\n",
       "      <td>https://image.tmdb.org/t/p/w185//z7uo9zmQdQwU5...</td>\n",
       "      <td>https://image.tmdb.org/t/p/w342//z7uo9zmQdQwU5...</td>\n",
       "      <td>https://image.tmdb.org/t/p/w154//z7uo9zmQdQwU5...</td>\n",
       "    </tr>\n",
       "    <tr>\n",
       "      <th>9</th>\n",
       "      <td>209112</td>\n",
       "      <td>https://image.tmdb.org/t/p/w185//5UsK3grJvtQrt...</td>\n",
       "      <td>https://image.tmdb.org/t/p/w342//5UsK3grJvtQrt...</td>\n",
       "      <td>https://image.tmdb.org/t/p/w154//5UsK3grJvtQrt...</td>\n",
       "    </tr>\n",
       "  </tbody>\n",
       "</table>\n",
       "</div>"
      ],
      "text/plain": [
       "       id                                   poster_link_w185  \\\n",
       "0   19995  https://image.tmdb.org/t/p/w185//jRXYjXNq0Cs2T...   \n",
       "1     285  https://image.tmdb.org/t/p/w185//jGWpG4YhpQwVm...   \n",
       "2  206647  https://image.tmdb.org/t/p/w185//672kUEMtTHcaV...   \n",
       "3   49026  https://image.tmdb.org/t/p/w185//85cWkCVftiVs0...   \n",
       "4   49529  https://image.tmdb.org/t/p/w185//lCxz1Yus07QCQ...   \n",
       "5     559  https://image.tmdb.org/t/p/w185//qFmwhVUoUSXjk...   \n",
       "6   38757  https://image.tmdb.org/t/p/w185//ym7Kst6a4uodr...   \n",
       "7   99861  https://image.tmdb.org/t/p/w185//4ssDuvEDkSArW...   \n",
       "8     767  https://image.tmdb.org/t/p/w185//z7uo9zmQdQwU5...   \n",
       "9  209112  https://image.tmdb.org/t/p/w185//5UsK3grJvtQrt...   \n",
       "\n",
       "                                    poster_link_w342  \\\n",
       "0  https://image.tmdb.org/t/p/w342//jRXYjXNq0Cs2T...   \n",
       "1  https://image.tmdb.org/t/p/w342//jGWpG4YhpQwVm...   \n",
       "2  https://image.tmdb.org/t/p/w342//672kUEMtTHcaV...   \n",
       "3  https://image.tmdb.org/t/p/w342//85cWkCVftiVs0...   \n",
       "4  https://image.tmdb.org/t/p/w342//lCxz1Yus07QCQ...   \n",
       "5  https://image.tmdb.org/t/p/w342//qFmwhVUoUSXjk...   \n",
       "6  https://image.tmdb.org/t/p/w342//ym7Kst6a4uodr...   \n",
       "7  https://image.tmdb.org/t/p/w342//4ssDuvEDkSArW...   \n",
       "8  https://image.tmdb.org/t/p/w342//z7uo9zmQdQwU5...   \n",
       "9  https://image.tmdb.org/t/p/w342//5UsK3grJvtQrt...   \n",
       "\n",
       "                                    poster_link_w154  \n",
       "0  https://image.tmdb.org/t/p/w154//jRXYjXNq0Cs2T...  \n",
       "1  https://image.tmdb.org/t/p/w154//jGWpG4YhpQwVm...  \n",
       "2  https://image.tmdb.org/t/p/w154//672kUEMtTHcaV...  \n",
       "3  https://image.tmdb.org/t/p/w154//85cWkCVftiVs0...  \n",
       "4  https://image.tmdb.org/t/p/w154//lCxz1Yus07QCQ...  \n",
       "5  https://image.tmdb.org/t/p/w154//qFmwhVUoUSXjk...  \n",
       "6  https://image.tmdb.org/t/p/w154//ym7Kst6a4uodr...  \n",
       "7  https://image.tmdb.org/t/p/w154//4ssDuvEDkSArW...  \n",
       "8  https://image.tmdb.org/t/p/w154//z7uo9zmQdQwU5...  \n",
       "9  https://image.tmdb.org/t/p/w154//5UsK3grJvtQrt...  "
      ]
     },
     "execution_count": 9,
     "metadata": {},
     "output_type": "execute_result"
    }
   ],
   "source": [
    "posters.head(10)"
   ]
  },
  {
   "cell_type": "code",
   "execution_count": 10,
   "id": "7393ab3e",
   "metadata": {},
   "outputs": [],
   "source": [
    "movies = movies.merge(credits , on = 'title')"
   ]
  },
  {
   "cell_type": "code",
   "execution_count": 11,
   "id": "35b9e140",
   "metadata": {},
   "outputs": [
    {
     "data": {
      "text/plain": [
       "(4809, 23)"
      ]
     },
     "execution_count": 11,
     "metadata": {},
     "output_type": "execute_result"
    }
   ],
   "source": [
    "movies.shape"
   ]
  },
  {
   "cell_type": "code",
   "execution_count": 12,
   "id": "00ee0fee",
   "metadata": {},
   "outputs": [],
   "source": [
    "movies = movies[['genres','id','keywords','overview','popularity','tagline','title','vote_average','vote_count','cast','crew']]"
   ]
  },
  {
   "cell_type": "code",
   "execution_count": 13,
   "id": "4f77387a",
   "metadata": {},
   "outputs": [],
   "source": [
    "movies['tagline'].fillna(\"\", inplace = True)"
   ]
  },
  {
   "cell_type": "code",
   "execution_count": 14,
   "id": "d383f4f5",
   "metadata": {},
   "outputs": [],
   "source": [
    "movies.dropna(inplace = True)"
   ]
  },
  {
   "cell_type": "code",
   "execution_count": 15,
   "id": "c5bf0367",
   "metadata": {},
   "outputs": [],
   "source": [
    "movies = movies.merge(posters, on = 'id')"
   ]
  },
  {
   "cell_type": "code",
   "execution_count": 16,
   "id": "d7a714f8",
   "metadata": {},
   "outputs": [
    {
     "data": {
      "text/plain": [
       "(4809, 14)"
      ]
     },
     "execution_count": 16,
     "metadata": {},
     "output_type": "execute_result"
    }
   ],
   "source": [
    "movies.shape"
   ]
  },
  {
   "cell_type": "code",
   "execution_count": 17,
   "id": "5b297bc9",
   "metadata": {},
   "outputs": [
    {
     "data": {
      "text/plain": [
       "genres              0\n",
       "id                  0\n",
       "keywords            0\n",
       "overview            0\n",
       "popularity          0\n",
       "tagline             0\n",
       "title               0\n",
       "vote_average        0\n",
       "vote_count          0\n",
       "cast                0\n",
       "crew                0\n",
       "poster_link_w185    0\n",
       "poster_link_w342    0\n",
       "poster_link_w154    0\n",
       "dtype: int64"
      ]
     },
     "execution_count": 17,
     "metadata": {},
     "output_type": "execute_result"
    }
   ],
   "source": [
    "movies.isnull().sum()"
   ]
  },
  {
   "cell_type": "code",
   "execution_count": 18,
   "id": "fa916b8f",
   "metadata": {
    "scrolled": true
   },
   "outputs": [
    {
     "data": {
      "text/html": [
       "<div>\n",
       "<style scoped>\n",
       "    .dataframe tbody tr th:only-of-type {\n",
       "        vertical-align: middle;\n",
       "    }\n",
       "\n",
       "    .dataframe tbody tr th {\n",
       "        vertical-align: top;\n",
       "    }\n",
       "\n",
       "    .dataframe thead th {\n",
       "        text-align: right;\n",
       "    }\n",
       "</style>\n",
       "<table border=\"1\" class=\"dataframe\">\n",
       "  <thead>\n",
       "    <tr style=\"text-align: right;\">\n",
       "      <th></th>\n",
       "      <th>genres</th>\n",
       "      <th>id</th>\n",
       "      <th>keywords</th>\n",
       "      <th>overview</th>\n",
       "      <th>popularity</th>\n",
       "      <th>tagline</th>\n",
       "      <th>title</th>\n",
       "      <th>vote_average</th>\n",
       "      <th>vote_count</th>\n",
       "      <th>cast</th>\n",
       "      <th>crew</th>\n",
       "      <th>poster_link_w185</th>\n",
       "      <th>poster_link_w342</th>\n",
       "      <th>poster_link_w154</th>\n",
       "    </tr>\n",
       "  </thead>\n",
       "  <tbody>\n",
       "    <tr>\n",
       "      <th>0</th>\n",
       "      <td>[{\"id\": 28, \"name\": \"Action\"}, {\"id\": 12, \"nam...</td>\n",
       "      <td>19995</td>\n",
       "      <td>[{\"id\": 1463, \"name\": \"culture clash\"}, {\"id\":...</td>\n",
       "      <td>In the 22nd century, a paraplegic Marine is di...</td>\n",
       "      <td>150.437577</td>\n",
       "      <td>Enter the World of Pandora.</td>\n",
       "      <td>Avatar</td>\n",
       "      <td>7.2</td>\n",
       "      <td>11800</td>\n",
       "      <td>[{\"cast_id\": 242, \"character\": \"Jake Sully\", \"...</td>\n",
       "      <td>[{\"credit_id\": \"52fe48009251416c750aca23\", \"de...</td>\n",
       "      <td>https://image.tmdb.org/t/p/w185//jRXYjXNq0Cs2T...</td>\n",
       "      <td>https://image.tmdb.org/t/p/w342//jRXYjXNq0Cs2T...</td>\n",
       "      <td>https://image.tmdb.org/t/p/w154//jRXYjXNq0Cs2T...</td>\n",
       "    </tr>\n",
       "    <tr>\n",
       "      <th>1</th>\n",
       "      <td>[{\"id\": 12, \"name\": \"Adventure\"}, {\"id\": 14, \"...</td>\n",
       "      <td>285</td>\n",
       "      <td>[{\"id\": 270, \"name\": \"ocean\"}, {\"id\": 726, \"na...</td>\n",
       "      <td>Captain Barbossa, long believed to be dead, ha...</td>\n",
       "      <td>139.082615</td>\n",
       "      <td>At the end of the world, the adventure begins.</td>\n",
       "      <td>Pirates of the Caribbean: At World's End</td>\n",
       "      <td>6.9</td>\n",
       "      <td>4500</td>\n",
       "      <td>[{\"cast_id\": 4, \"character\": \"Captain Jack Spa...</td>\n",
       "      <td>[{\"credit_id\": \"52fe4232c3a36847f800b579\", \"de...</td>\n",
       "      <td>https://image.tmdb.org/t/p/w185//jGWpG4YhpQwVm...</td>\n",
       "      <td>https://image.tmdb.org/t/p/w342//jGWpG4YhpQwVm...</td>\n",
       "      <td>https://image.tmdb.org/t/p/w154//jGWpG4YhpQwVm...</td>\n",
       "    </tr>\n",
       "    <tr>\n",
       "      <th>2</th>\n",
       "      <td>[{\"id\": 28, \"name\": \"Action\"}, {\"id\": 12, \"nam...</td>\n",
       "      <td>206647</td>\n",
       "      <td>[{\"id\": 470, \"name\": \"spy\"}, {\"id\": 818, \"name...</td>\n",
       "      <td>A cryptic message from Bond’s past sends him o...</td>\n",
       "      <td>107.376788</td>\n",
       "      <td>A Plan No One Escapes</td>\n",
       "      <td>Spectre</td>\n",
       "      <td>6.3</td>\n",
       "      <td>4466</td>\n",
       "      <td>[{\"cast_id\": 1, \"character\": \"James Bond\", \"cr...</td>\n",
       "      <td>[{\"credit_id\": \"54805967c3a36829b5002c41\", \"de...</td>\n",
       "      <td>https://image.tmdb.org/t/p/w185//672kUEMtTHcaV...</td>\n",
       "      <td>https://image.tmdb.org/t/p/w342//672kUEMtTHcaV...</td>\n",
       "      <td>https://image.tmdb.org/t/p/w154//672kUEMtTHcaV...</td>\n",
       "    </tr>\n",
       "    <tr>\n",
       "      <th>3</th>\n",
       "      <td>[{\"id\": 28, \"name\": \"Action\"}, {\"id\": 80, \"nam...</td>\n",
       "      <td>49026</td>\n",
       "      <td>[{\"id\": 849, \"name\": \"dc comics\"}, {\"id\": 853,...</td>\n",
       "      <td>Following the death of District Attorney Harve...</td>\n",
       "      <td>112.312950</td>\n",
       "      <td>The Legend Ends</td>\n",
       "      <td>The Dark Knight Rises</td>\n",
       "      <td>7.6</td>\n",
       "      <td>9106</td>\n",
       "      <td>[{\"cast_id\": 2, \"character\": \"Bruce Wayne / Ba...</td>\n",
       "      <td>[{\"credit_id\": \"52fe4781c3a36847f81398c3\", \"de...</td>\n",
       "      <td>https://image.tmdb.org/t/p/w185//85cWkCVftiVs0...</td>\n",
       "      <td>https://image.tmdb.org/t/p/w342//85cWkCVftiVs0...</td>\n",
       "      <td>https://image.tmdb.org/t/p/w154//85cWkCVftiVs0...</td>\n",
       "    </tr>\n",
       "    <tr>\n",
       "      <th>4</th>\n",
       "      <td>[{\"id\": 28, \"name\": \"Action\"}, {\"id\": 12, \"nam...</td>\n",
       "      <td>49529</td>\n",
       "      <td>[{\"id\": 818, \"name\": \"based on novel\"}, {\"id\":...</td>\n",
       "      <td>John Carter is a war-weary, former military ca...</td>\n",
       "      <td>43.926995</td>\n",
       "      <td>Lost in our world, found in another.</td>\n",
       "      <td>John Carter</td>\n",
       "      <td>6.1</td>\n",
       "      <td>2124</td>\n",
       "      <td>[{\"cast_id\": 5, \"character\": \"John Carter\", \"c...</td>\n",
       "      <td>[{\"credit_id\": \"52fe479ac3a36847f813eaa3\", \"de...</td>\n",
       "      <td>https://image.tmdb.org/t/p/w185//lCxz1Yus07QCQ...</td>\n",
       "      <td>https://image.tmdb.org/t/p/w342//lCxz1Yus07QCQ...</td>\n",
       "      <td>https://image.tmdb.org/t/p/w154//lCxz1Yus07QCQ...</td>\n",
       "    </tr>\n",
       "  </tbody>\n",
       "</table>\n",
       "</div>"
      ],
      "text/plain": [
       "                                              genres      id  \\\n",
       "0  [{\"id\": 28, \"name\": \"Action\"}, {\"id\": 12, \"nam...   19995   \n",
       "1  [{\"id\": 12, \"name\": \"Adventure\"}, {\"id\": 14, \"...     285   \n",
       "2  [{\"id\": 28, \"name\": \"Action\"}, {\"id\": 12, \"nam...  206647   \n",
       "3  [{\"id\": 28, \"name\": \"Action\"}, {\"id\": 80, \"nam...   49026   \n",
       "4  [{\"id\": 28, \"name\": \"Action\"}, {\"id\": 12, \"nam...   49529   \n",
       "\n",
       "                                            keywords  \\\n",
       "0  [{\"id\": 1463, \"name\": \"culture clash\"}, {\"id\":...   \n",
       "1  [{\"id\": 270, \"name\": \"ocean\"}, {\"id\": 726, \"na...   \n",
       "2  [{\"id\": 470, \"name\": \"spy\"}, {\"id\": 818, \"name...   \n",
       "3  [{\"id\": 849, \"name\": \"dc comics\"}, {\"id\": 853,...   \n",
       "4  [{\"id\": 818, \"name\": \"based on novel\"}, {\"id\":...   \n",
       "\n",
       "                                            overview  popularity  \\\n",
       "0  In the 22nd century, a paraplegic Marine is di...  150.437577   \n",
       "1  Captain Barbossa, long believed to be dead, ha...  139.082615   \n",
       "2  A cryptic message from Bond’s past sends him o...  107.376788   \n",
       "3  Following the death of District Attorney Harve...  112.312950   \n",
       "4  John Carter is a war-weary, former military ca...   43.926995   \n",
       "\n",
       "                                          tagline  \\\n",
       "0                     Enter the World of Pandora.   \n",
       "1  At the end of the world, the adventure begins.   \n",
       "2                           A Plan No One Escapes   \n",
       "3                                 The Legend Ends   \n",
       "4            Lost in our world, found in another.   \n",
       "\n",
       "                                      title  vote_average  vote_count  \\\n",
       "0                                    Avatar           7.2       11800   \n",
       "1  Pirates of the Caribbean: At World's End           6.9        4500   \n",
       "2                                   Spectre           6.3        4466   \n",
       "3                     The Dark Knight Rises           7.6        9106   \n",
       "4                               John Carter           6.1        2124   \n",
       "\n",
       "                                                cast  \\\n",
       "0  [{\"cast_id\": 242, \"character\": \"Jake Sully\", \"...   \n",
       "1  [{\"cast_id\": 4, \"character\": \"Captain Jack Spa...   \n",
       "2  [{\"cast_id\": 1, \"character\": \"James Bond\", \"cr...   \n",
       "3  [{\"cast_id\": 2, \"character\": \"Bruce Wayne / Ba...   \n",
       "4  [{\"cast_id\": 5, \"character\": \"John Carter\", \"c...   \n",
       "\n",
       "                                                crew  \\\n",
       "0  [{\"credit_id\": \"52fe48009251416c750aca23\", \"de...   \n",
       "1  [{\"credit_id\": \"52fe4232c3a36847f800b579\", \"de...   \n",
       "2  [{\"credit_id\": \"54805967c3a36829b5002c41\", \"de...   \n",
       "3  [{\"credit_id\": \"52fe4781c3a36847f81398c3\", \"de...   \n",
       "4  [{\"credit_id\": \"52fe479ac3a36847f813eaa3\", \"de...   \n",
       "\n",
       "                                    poster_link_w185  \\\n",
       "0  https://image.tmdb.org/t/p/w185//jRXYjXNq0Cs2T...   \n",
       "1  https://image.tmdb.org/t/p/w185//jGWpG4YhpQwVm...   \n",
       "2  https://image.tmdb.org/t/p/w185//672kUEMtTHcaV...   \n",
       "3  https://image.tmdb.org/t/p/w185//85cWkCVftiVs0...   \n",
       "4  https://image.tmdb.org/t/p/w185//lCxz1Yus07QCQ...   \n",
       "\n",
       "                                    poster_link_w342  \\\n",
       "0  https://image.tmdb.org/t/p/w342//jRXYjXNq0Cs2T...   \n",
       "1  https://image.tmdb.org/t/p/w342//jGWpG4YhpQwVm...   \n",
       "2  https://image.tmdb.org/t/p/w342//672kUEMtTHcaV...   \n",
       "3  https://image.tmdb.org/t/p/w342//85cWkCVftiVs0...   \n",
       "4  https://image.tmdb.org/t/p/w342//lCxz1Yus07QCQ...   \n",
       "\n",
       "                                    poster_link_w154  \n",
       "0  https://image.tmdb.org/t/p/w154//jRXYjXNq0Cs2T...  \n",
       "1  https://image.tmdb.org/t/p/w154//jGWpG4YhpQwVm...  \n",
       "2  https://image.tmdb.org/t/p/w154//672kUEMtTHcaV...  \n",
       "3  https://image.tmdb.org/t/p/w154//85cWkCVftiVs0...  \n",
       "4  https://image.tmdb.org/t/p/w154//lCxz1Yus07QCQ...  "
      ]
     },
     "execution_count": 18,
     "metadata": {},
     "output_type": "execute_result"
    }
   ],
   "source": [
    "movies.head(5)"
   ]
  },
  {
   "cell_type": "code",
   "execution_count": 19,
   "id": "caf2aaf8",
   "metadata": {},
   "outputs": [],
   "source": [
    "movies.reset_index(drop=True, inplace = True)"
   ]
  },
  {
   "cell_type": "code",
   "execution_count": 20,
   "id": "51d6fef5",
   "metadata": {},
   "outputs": [
    {
     "data": {
      "text/plain": [
       "array(['[{\"id\": 28, \"name\": \"Action\"}, {\"id\": 878, \"name\": \"Science Fiction\"}, {\"id\": 53, \"name\": \"Thriller\"}]',\n",
       "       19959,\n",
       "       '[{\"id\": 402, \"name\": \"clone\"}, {\"id\": 4565, \"name\": \"dystopia\"}]',\n",
       "       \"Set in a futuristic world where humans live in isolation and interact through surrogate robots, a cop is forced to leave his home for the first time in years in order to investigate the murders of others' surrogates.\",\n",
       "       36.664991,\n",
       "       \"How do you save humanity when the only thing that's real is you?\",\n",
       "       'Surrogates', 5.9, 1195,\n",
       "       '[{\"cast_id\": 1, \"character\": \"Tom Greer\", \"credit_id\": \"52fe47fc9251416c750ac1f5\", \"gender\": 2, \"id\": 62, \"name\": \"Bruce Willis\", \"order\": 0}, {\"cast_id\": 2, \"character\": \"Jennifer Peters\", \"credit_id\": \"52fe47fc9251416c750ac1f9\", \"gender\": 1, \"id\": 8329, \"name\": \"Radha Mitchell\", \"order\": 1}, {\"cast_id\": 6, \"character\": \"Maggie Greer\", \"credit_id\": \"52fe47fc9251416c750ac20f\", \"gender\": 1, \"id\": 10882, \"name\": \"Rosamund Pike\", \"order\": 2}, {\"cast_id\": 7, \"character\": \"Dr. Lionel Canter\", \"credit_id\": \"52fe47fc9251416c750ac213\", \"gender\": 2, \"id\": 2505, \"name\": \"James Cromwell\", \"order\": 3}, {\"cast_id\": 8, \"character\": \"Prophet\", \"credit_id\": \"52fe47fc9251416c750ac217\", \"gender\": 2, \"id\": 10182, \"name\": \"Ving Rhames\", \"order\": 4}, {\"cast_id\": 9, \"character\": \"JJ the Blonde\", \"credit_id\": \"52fe47fc9251416c750ac21b\", \"gender\": 1, \"id\": 113676, \"name\": \"Helena Mattsson\", \"order\": 5}, {\"cast_id\": 10, \"character\": \"Andrew Stone\", \"credit_id\": \"52fe47fc9251416c750ac21f\", \"gender\": 2, \"id\": 80758, \"name\": \"Boris Kodjoe\", \"order\": 6}, {\"cast_id\": 11, \"character\": \"Andre\", \"credit_id\": \"52fe47fc9251416c750ac223\", \"gender\": 0, \"id\": 587701, \"name\": \"Ian Novick\", \"order\": 7}, {\"cast_id\": 12, \"character\": \"Bobby Saunders\", \"credit_id\": \"52fe47fc9251416c750ac227\", \"gender\": 2, \"id\": 11516, \"name\": \"Devin Ratray\", \"order\": 8}, {\"cast_id\": 13, \"character\": \"Miles Strickland\", \"credit_id\": \"52fe47fc9251416c750ac22b\", \"gender\": 2, \"id\": 22133, \"name\": \"Jack Noseworthy\", \"order\": 9}, {\"cast_id\": 14, \"character\": \"Victim\", \"credit_id\": \"52fe47fc9251416c750ac22f\", \"gender\": 0, \"id\": 172303, \"name\": \"Danny F. Smith\", \"order\": 10}, {\"cast_id\": 15, \"character\": \"Armando\", \"credit_id\": \"52fe47fc9251416c750ac233\", \"gender\": 0, \"id\": 1016151, \"name\": \"Jeffrey De Serrano\", \"order\": 11}, {\"cast_id\": 16, \"character\": \"Colonel Brendon\", \"credit_id\": \"52fe47fc9251416c750ac237\", \"gender\": 2, \"id\": 52415, \"name\": \"Michael Cudlitz\", \"order\": 12}, {\"cast_id\": 17, \"character\": \"Surrie / Greer\", \"credit_id\": \"52fe47fc9251416c750ac23b\", \"gender\": 0, \"id\": 1233560, \"name\": \"Trevor Donovan\", \"order\": 13}, {\"cast_id\": 41, \"character\": \"Landlady\", \"credit_id\": \"58fcd8f5c3a3687984023b5f\", \"gender\": 1, \"id\": 180327, \"name\": \"Jennifer Alden\", \"order\": 14}, {\"cast_id\": 42, \"character\": \"Uniformed Cop\", \"credit_id\": \"58fcd932c3a3687a1502075d\", \"gender\": 0, \"id\": 1234039, \"name\": \"Michael Philip\", \"order\": 15}, {\"cast_id\": 43, \"character\": \"Canter\", \"credit_id\": \"58fcd973c3a3687a25022625\", \"gender\": 0, \"id\": 55582, \"name\": \"James Francis Ginty\", \"order\": 16}, {\"cast_id\": 44, \"character\": \"Undergrad #1\", \"credit_id\": \"58fcdb8e92514163e3024623\", \"gender\": 0, \"id\": 1717251, \"name\": \"Andrew Haserlat\", \"order\": 17}, {\"cast_id\": 45, \"character\": \"Undergrad #2\", \"credit_id\": \"58fcdcc492514163e302471c\", \"gender\": 0, \"id\": 1802035, \"name\": \"Justin Goodrich\", \"order\": 18}, {\"cast_id\": 46, \"character\": \"Assistant\", \"credit_id\": \"58fcdd56c3a36879db024a5a\", \"gender\": 0, \"id\": 169677, \"name\": \"Rachel Sterling\", \"order\": 19}, {\"cast_id\": 47, \"character\": \"Female Counsel\", \"credit_id\": \"58fcdd81c3a36879db024a7b\", \"gender\": 1, \"id\": 165242, \"name\": \"Meta Golding\", \"order\": 20}, {\"cast_id\": 48, \"character\": \"Female Lawyer\", \"credit_id\": \"58fcddb4925141640b0233b4\", \"gender\": 1, \"id\": 54182, \"name\": \"Taylor Cole\", \"order\": 21}, {\"cast_id\": 49, \"character\": \"Victor Welch\", \"credit_id\": \"58fcddd392514164280230e3\", \"gender\": 2, \"id\": 144675, \"name\": \"Jordan Belfi\", \"order\": 22}, {\"cast_id\": 50, \"character\": \"Steinberg\", \"credit_id\": \"58fcde5ec3a36879f4020174\", \"gender\": 0, \"id\": 1802036, \"name\": \"J.L. Highsmith\", \"order\": 23}, {\"cast_id\": 51, \"character\": \"Female Newscaster\", \"credit_id\": \"58fcdf5cc3a3687a15020b80\", \"gender\": 0, \"id\": 1802037, \"name\": \"Lisa Hernandez\", \"order\": 24}, {\"cast_id\": 52, \"character\": \"Male Newscaster\", \"credit_id\": \"58fcdfff92514163df023d9e\", \"gender\": 0, \"id\": 1802038, \"name\": \"Kirk Hawkins\", \"order\": 25}, {\"cast_id\": 53, \"character\": \"Pulaski / Commando\", \"credit_id\": \"58fce0b3c3a36879be023fd0\", \"gender\": 0, \"id\": 1802039, \"name\": \"Nicholas Purcell\", \"order\": 26}, {\"cast_id\": 54, \"character\": \"Captain\", \"credit_id\": \"58fce11292514163e30249ef\", \"gender\": 0, \"id\": 1802040, \"name\": \"Max Murphy\", \"order\": 27}, {\"cast_id\": 55, \"character\": \"Lopez\", \"credit_id\": \"58fce14dc3a3687984024166\", \"gender\": 2, \"id\": 1215144, \"name\": \"Victor Webster\", \"order\": 28}, {\"cast_id\": 56, \"character\": \"Bridget\", \"credit_id\": \"58fce1649251416428023316\", \"gender\": 1, \"id\": 66636, \"name\": \"Valerie Azlynn\", \"order\": 29}, {\"cast_id\": 57, \"character\": \"Cop\", \"credit_id\": \"58fcf846925141640b0244d3\", \"gender\": 0, \"id\": 1802115, \"name\": \"David Klefeker\", \"order\": 30}, {\"cast_id\": 59, \"character\": \"Salesman\", \"credit_id\": \"58fcf93492514163e3025b03\", \"gender\": 0, \"id\": 1802120, \"name\": \"Chad Williams\", \"order\": 32}, {\"cast_id\": 60, \"character\": \"Hunk\", \"credit_id\": \"58fcf99cc3a36879db025d35\", \"gender\": 0, \"id\": 1802128, \"name\": \"Mike Randy\", \"order\": 33}, {\"cast_id\": 61, \"character\": \"Gate Guard\", \"credit_id\": \"58fcfa1dc3a3687a25023c7e\", \"gender\": 0, \"id\": 1511961, \"name\": \"Michael DeMello\", \"order\": 34}, {\"cast_id\": 62, \"character\": \"Pedestrian\", \"credit_id\": \"58fcfbc2c3a36879840253f5\", \"gender\": 0, \"id\": 1753529, \"name\": \"Ron Murphy\", \"order\": 35}, {\"cast_id\": 63, \"character\": \"Miller\", \"credit_id\": \"58fcfc5bc3a3687a15021e0a\", \"gender\": 2, \"id\": 187812, \"name\": \"David Conley\", \"order\": 36}, {\"cast_id\": 64, \"character\": \"Bud\", \"credit_id\": \"58fcfc9fc3a3687a2a022c23\", \"gender\": 2, \"id\": 141932, \"name\": \"Bruce-Robert Serafin\", \"order\": 37}, {\"cast_id\": 65, \"character\": \"Boy Canter\", \"credit_id\": \"58fcfdbb925141642f024d8b\", \"gender\": 0, \"id\": 219664, \"name\": \"Cody Christian\", \"order\": 38}, {\"cast_id\": 66, \"character\": \"Brian\", \"credit_id\": \"58fcfdf1925141642f024dba\", \"gender\": 2, \"id\": 1224687, \"name\": \"Todd Cahoon\", \"order\": 39}, {\"cast_id\": 67, \"character\": \"Lisa\", \"credit_id\": \"58fcfe08925141640b024849\", \"gender\": 1, \"id\": 206045, \"name\": \"Ella Thomas\", \"order\": 40}, {\"cast_id\": 68, \"character\": \"Agent #1\", \"credit_id\": \"58fcff62c3a36879be02557b\", \"gender\": 2, \"id\": 106435, \"name\": \"Gabriel Olds\", \"order\": 41}, {\"cast_id\": 69, \"character\": \"Agent #2\", \"credit_id\": \"58fcff76925141643c025111\", \"gender\": 0, \"id\": 1802145, \"name\": \"Eamon Brooks\", \"order\": 42}, {\"cast_id\": 70, \"character\": \"Clerk\", \"credit_id\": \"58fd001bc3a3687a2a022e59\", \"gender\": 2, \"id\": 138009, \"name\": \"Rick Malambri\", \"order\": 43}, {\"cast_id\": 71, \"character\": \"Beautiful Woman\", \"credit_id\": \"58fd0037c3a368798402573b\", \"gender\": 1, \"id\": 210292, \"name\": \"Anya Monzikova\", \"order\": 44}]',\n",
       "       '[{\"credit_id\": \"5378c8450e0a26141f005426\", \"department\": \"Production\", \"gender\": 1, \"id\": 2874, \"job\": \"Casting\", \"name\": \"Janet Hirshenson\"}, {\"credit_id\": \"542e7e04c3a3682187002002\", \"department\": \"Production\", \"gender\": 1, \"id\": 3275, \"job\": \"Casting\", \"name\": \"Jane Jenkins\"}, {\"credit_id\": \"5378c9610e0a2614190050a3\", \"department\": \"Costume & Make-Up\", \"gender\": 0, \"id\": 3995, \"job\": \"Makeup Department Head\", \"name\": \"Jeff Dawn\"}, {\"credit_id\": \"52fe47fc9251416c750ac1ff\", \"department\": \"Directing\", \"gender\": 2, \"id\": 7213, \"job\": \"Director\", \"name\": \"Jonathan Mostow\"}, {\"credit_id\": \"52fe47fc9251416c750ac20b\", \"department\": \"Writing\", \"gender\": 2, \"id\": 7214, \"job\": \"Writer\", \"name\": \"John D. Brancato\"}, {\"credit_id\": \"52fe47fc9251416c750ac205\", \"department\": \"Writing\", \"gender\": 2, \"id\": 7215, \"job\": \"Writer\", \"name\": \"Michael Ferris\"}, {\"credit_id\": \"5378c8de0e0a26143100537e\", \"department\": \"Art\", \"gender\": 2, \"id\": 7233, \"job\": \"Production Design\", \"name\": \"Jeff Mann\"}, {\"credit_id\": \"5378c9440e0a26141f00544c\", \"department\": \"Costume & Make-Up\", \"gender\": 1, \"id\": 7238, \"job\": \"Costume Design\", \"name\": \"April Ferry\"}, {\"credit_id\": \"5378c8670e0a2614250053b7\", \"department\": \"Production\", \"gender\": 0, \"id\": 6876, \"job\": \"Casting\", \"name\": \"Michelle Lewitt\"}, {\"credit_id\": \"5378c87b0e0a261416005468\", \"department\": \"Camera\", \"gender\": 2, \"id\": 11409, \"job\": \"Director of Photography\", \"name\": \"Oliver Wood\"}, {\"credit_id\": \"5378c8f70e0a26141c005540\", \"department\": \"Art\", \"gender\": 2, \"id\": 11508, \"job\": \"Art Direction\", \"name\": \"Dan Webster\"}, {\"credit_id\": \"5378c8a20e0a261428005183\", \"department\": \"Editing\", \"gender\": 2, \"id\": 11001, \"job\": \"Editor\", \"name\": \"Kevin Stitt\"}, {\"credit_id\": \"5378c8900e0a261431005375\", \"department\": \"Sound\", \"gender\": 2, \"id\": 21467, \"job\": \"Music\", \"name\": \"Richard Marvin\"}, {\"credit_id\": \"5378c7f50e0a26141f005415\", \"department\": \"Production\", \"gender\": 2, \"id\": 31710, \"job\": \"Producer\", \"name\": \"David Hoberman\"}, {\"credit_id\": \"5378c82c0e0a26141f00541f\", \"department\": \"Production\", \"gender\": 2, \"id\": 62758, \"job\": \"Producer\", \"name\": \"Todd Lieberman\"}, {\"credit_id\": \"5378c9230e0a261431005384\", \"department\": \"Art\", \"gender\": 0, \"id\": 73348, \"job\": \"Set Decoration\", \"name\": \"Fainche MacCarthy\"}, {\"credit_id\": \"579d0ba4c3a3682830001662\", \"department\": \"Sound\", \"gender\": 0, \"id\": 68016, \"job\": \"Orchestrator\", \"name\": \"Kevin Kaska\"}, {\"credit_id\": \"5378c7df0e0a26142800515c\", \"department\": \"Production\", \"gender\": 2, \"id\": 1005814, \"job\": \"Producer\", \"name\": \"Max Handelman\"}, {\"credit_id\": \"58fa524b92514158ae00eeb5\", \"department\": \"Crew\", \"gender\": 2, \"id\": 1198454, \"job\": \"Stunts\", \"name\": \"Jim Ford\"}, {\"credit_id\": \"5378c9890e0a261416005483\", \"department\": \"Costume & Make-Up\", \"gender\": 0, \"id\": 1318814, \"job\": \"Costume Supervisor\", \"name\": \"Virginia Johnson\"}, {\"credit_id\": \"5378c90d0e0a26141f005440\", \"department\": \"Art\", \"gender\": 0, \"id\": 1321011, \"job\": \"Set Decoration\", \"name\": \"Debbie Cutler\"}, {\"credit_id\": \"5523ef5fc3a36847c8002d53\", \"department\": \"Visual Effects\", \"gender\": 0, \"id\": 1355894, \"job\": \"Animation\", \"name\": \"Anthony Di Ninno\"}, {\"credit_id\": \"570830489251415bc000054b\", \"department\": \"Visual Effects\", \"gender\": 0, \"id\": 1368867, \"job\": \"Special Effects Supervisor\", \"name\": \"Allen Hall\"}, {\"credit_id\": \"570f0c6e92514102b3001892\", \"department\": \"Editing\", \"gender\": 0, \"id\": 1457666, \"job\": \"Assistant Editor\", \"name\": \"Kris Cole\"}, {\"credit_id\": \"5692aa3c9251416557000040\", \"department\": \"Crew\", \"gender\": 2, \"id\": 1552521, \"job\": \"Stunts\", \"name\": \"Brian Avery\"}]',\n",
       "       'https://image.tmdb.org/t/p/w185//v3Z0Hbl0oe57njrrIPh0fJPFoo.jpg',\n",
       "       'https://image.tmdb.org/t/p/w342//v3Z0Hbl0oe57njrrIPh0fJPFoo.jpg',\n",
       "       'https://image.tmdb.org/t/p/w154//v3Z0Hbl0oe57njrrIPh0fJPFoo.jpg'],\n",
       "      dtype=object)"
      ]
     },
     "execution_count": 20,
     "metadata": {},
     "output_type": "execute_result"
    }
   ],
   "source": [
    "movies.iloc[476].values"
   ]
  },
  {
   "cell_type": "code",
   "execution_count": 21,
   "id": "ce388a1f",
   "metadata": {},
   "outputs": [],
   "source": [
    "vote_counts = movies[movies['vote_count'].notnull()]['vote_count'].astype('int')\n",
    "vote_averages = movies[movies['vote_average'].notnull()]['vote_average'].astype('int')\n",
    "C = vote_averages.mean()\n",
    "m = vote_counts.quantile(0.50)\n",
    "\n",
    "def weighted_rating(x):\n",
    "    v = x['vote_count']\n",
    "    R = x['vote_average']\n",
    "    return (v/(v+m) * R) + (m/(m+v) * C)"
   ]
  },
  {
   "cell_type": "code",
   "execution_count": 22,
   "id": "593befcf",
   "metadata": {},
   "outputs": [],
   "source": [
    "movies['vote_count'] = movies['vote_count'].astype('int')\n",
    "movies['vote_average'] = movies['vote_average'].astype('int')\n",
    "movies['wr'] = movies.apply(weighted_rating, axis=1)"
   ]
  },
  {
   "cell_type": "code",
   "execution_count": 23,
   "id": "87e877d8",
   "metadata": {},
   "outputs": [
    {
     "data": {
      "text/plain": [
       "'[{\"id\": 28, \"name\": \"Action\"}, {\"id\": 12, \"name\": \"Adventure\"}, {\"id\": 14, \"name\": \"Fantasy\"}, {\"id\": 878, \"name\": \"Science Fiction\"}]'"
      ]
     },
     "execution_count": 23,
     "metadata": {},
     "output_type": "execute_result"
    }
   ],
   "source": [
    "movies.iloc[0].genres"
   ]
  },
  {
   "cell_type": "code",
   "execution_count": 24,
   "id": "0018d862",
   "metadata": {},
   "outputs": [],
   "source": [
    "import ast\n",
    "\n",
    "def convert(obj):\n",
    "    l=[]\n",
    "    for i in ast.literal_eval(obj):\n",
    "        l.append(i[\"name\"])\n",
    "    return l"
   ]
  },
  {
   "cell_type": "code",
   "execution_count": 25,
   "id": "519081d7",
   "metadata": {},
   "outputs": [],
   "source": [
    "movies['genres']=movies['genres'].apply(convert)"
   ]
  },
  {
   "cell_type": "code",
   "execution_count": 26,
   "id": "a7902331",
   "metadata": {},
   "outputs": [
    {
     "data": {
      "text/plain": [
       "['Action', 'Adventure', 'Fantasy', 'Science Fiction']"
      ]
     },
     "execution_count": 26,
     "metadata": {},
     "output_type": "execute_result"
    }
   ],
   "source": [
    "movies.iloc[0].genres"
   ]
  },
  {
   "cell_type": "code",
   "execution_count": 27,
   "id": "994429d6",
   "metadata": {},
   "outputs": [],
   "source": [
    "movies['keywords']=movies['keywords'].apply(convert)"
   ]
  },
  {
   "cell_type": "code",
   "execution_count": 28,
   "id": "791249d4",
   "metadata": {},
   "outputs": [],
   "source": [
    "import ast\n",
    "\n",
    "def convert1(obj):\n",
    "    l=[]\n",
    "    counter =0\n",
    "    for i in ast.literal_eval(obj):\n",
    "        if counter < 3:\n",
    "            l.append(i[\"name\"])\n",
    "            counter +=1\n",
    "        else:\n",
    "            break\n",
    "    return l"
   ]
  },
  {
   "cell_type": "code",
   "execution_count": 29,
   "id": "34d77768",
   "metadata": {},
   "outputs": [],
   "source": [
    "movies['actor']=movies['cast'].apply(convert1)"
   ]
  },
  {
   "cell_type": "code",
   "execution_count": 30,
   "id": "9fa757f2",
   "metadata": {},
   "outputs": [],
   "source": [
    "import ast\n",
    "\n",
    "def convert2(obj):\n",
    "    l=[]\n",
    "\n",
    "    for i in ast.literal_eval(obj):\n",
    "        if i['job'] == \"Director\":\n",
    "            l.append(i[\"name\"])\n",
    "            break\n",
    "    return l"
   ]
  },
  {
   "cell_type": "code",
   "execution_count": 31,
   "id": "60743823",
   "metadata": {},
   "outputs": [],
   "source": [
    "movies['crew']=movies['crew'].apply(convert2)"
   ]
  },
  {
   "cell_type": "code",
   "execution_count": 32,
   "id": "5eac7468",
   "metadata": {},
   "outputs": [],
   "source": [
    "import ast\n",
    "\n",
    "def convert1(obj):\n",
    "    l=[]\n",
    "    counter =0\n",
    "    for i in ast.literal_eval(obj):\n",
    "        if counter < 3:\n",
    "            l.append(i[\"character\"])\n",
    "            counter +=1\n",
    "        else:\n",
    "            break\n",
    "    return l"
   ]
  },
  {
   "cell_type": "code",
   "execution_count": 33,
   "id": "0b0cc0c5",
   "metadata": {},
   "outputs": [],
   "source": [
    "movies['character']=movies['cast'].apply(convert1)"
   ]
  },
  {
   "cell_type": "code",
   "execution_count": 34,
   "id": "94eb8a74",
   "metadata": {},
   "outputs": [],
   "source": [
    "movies['overview']=movies['overview'].apply(lambda x :x.split())"
   ]
  },
  {
   "cell_type": "code",
   "execution_count": 35,
   "id": "2c218b47",
   "metadata": {},
   "outputs": [],
   "source": [
    "movies['tagline']=movies['tagline'].apply(lambda x :x.split())"
   ]
  },
  {
   "cell_type": "code",
   "execution_count": 36,
   "id": "eac1b677",
   "metadata": {},
   "outputs": [],
   "source": [
    "movies['sub_title']=movies['title'].apply(lambda x :x.split())"
   ]
  },
  {
   "cell_type": "code",
   "execution_count": 37,
   "id": "d8ceb4f5",
   "metadata": {},
   "outputs": [
    {
     "data": {
      "text/plain": [
       "(4809, 18)"
      ]
     },
     "execution_count": 37,
     "metadata": {},
     "output_type": "execute_result"
    }
   ],
   "source": [
    "movies.shape"
   ]
  },
  {
   "cell_type": "code",
   "execution_count": 38,
   "id": "0c8abbac",
   "metadata": {},
   "outputs": [],
   "source": [
    "movies['genres']=movies['genres'].apply(lambda x :[i.replace(\" \",\"\") for i in x])\n",
    "movies['keywords_conv']=movies['keywords'].apply(lambda x :[i.replace(\" \",\"\") for i in x])\n",
    "movies['crew']=movies['crew'].apply(lambda x :[i.replace(\" \",\"\") for i in x])\n",
    "movies['actor']=movies['actor'].apply(lambda x :[i.replace(\" \",\"\") for i in x])\n",
    "movies['character']=movies['character'].apply(lambda x :[i.replace(\" \",\"\") for i in x])\n",
    "\n"
   ]
  },
  {
   "cell_type": "code",
   "execution_count": 39,
   "id": "22802c01",
   "metadata": {},
   "outputs": [],
   "source": [
    "movies['tags'] = movies['genres'] + movies['overview'] +movies['keywords']+ movies['tagline'] + movies['keywords_conv']+movies['crew']+movies['actor']+ movies['character']"
   ]
  },
  {
   "cell_type": "code",
   "execution_count": 40,
   "id": "29be581c",
   "metadata": {},
   "outputs": [],
   "source": [
    "movies['description'] = movies['genres'] + movies['keywords'] + movies['overview'] + movies['tagline'] + movies['crew']+movies['actor']+movies['character']+movies['sub_title']"
   ]
  },
  {
   "cell_type": "code",
   "execution_count": 41,
   "id": "ba07d088",
   "metadata": {},
   "outputs": [],
   "source": [
    "new_id = list(range(0,movies.shape[0]))\n",
    "movies['temp_index']=new_id"
   ]
  },
  {
   "cell_type": "code",
   "execution_count": 42,
   "id": "d39f3c19",
   "metadata": {},
   "outputs": [],
   "source": [
    "new_df = movies[['temp_index','id','title','tags','vote_average','vote_count','popularity','wr','description','poster_link_w185','poster_link_w342','poster_link_w154']]"
   ]
  },
  {
   "cell_type": "code",
   "execution_count": 43,
   "id": "1adbbfb2",
   "metadata": {},
   "outputs": [
    {
     "name": "stderr",
     "output_type": "stream",
     "text": [
      "C:\\Users\\Admin\\AppData\\Local\\Temp\\ipykernel_17504\\3208536249.py:1: SettingWithCopyWarning: \n",
      "A value is trying to be set on a copy of a slice from a DataFrame.\n",
      "Try using .loc[row_indexer,col_indexer] = value instead\n",
      "\n",
      "See the caveats in the documentation: https://pandas.pydata.org/pandas-docs/stable/user_guide/indexing.html#returning-a-view-versus-a-copy\n",
      "  new_df['tags']=new_df['tags'].apply(lambda x :\" \".join(x))\n",
      "C:\\Users\\Admin\\AppData\\Local\\Temp\\ipykernel_17504\\3208536249.py:2: SettingWithCopyWarning: \n",
      "A value is trying to be set on a copy of a slice from a DataFrame.\n",
      "Try using .loc[row_indexer,col_indexer] = value instead\n",
      "\n",
      "See the caveats in the documentation: https://pandas.pydata.org/pandas-docs/stable/user_guide/indexing.html#returning-a-view-versus-a-copy\n",
      "  new_df['tags']= new_df['tags'].apply(lambda x:x.lower())\n"
     ]
    }
   ],
   "source": [
    "new_df['tags']=new_df['tags'].apply(lambda x :\" \".join(x))\n",
    "new_df['tags']= new_df['tags'].apply(lambda x:x.lower())"
   ]
  },
  {
   "cell_type": "code",
   "execution_count": 44,
   "id": "c1cab562",
   "metadata": {},
   "outputs": [
    {
     "data": {
      "text/html": [
       "<div>\n",
       "<style scoped>\n",
       "    .dataframe tbody tr th:only-of-type {\n",
       "        vertical-align: middle;\n",
       "    }\n",
       "\n",
       "    .dataframe tbody tr th {\n",
       "        vertical-align: top;\n",
       "    }\n",
       "\n",
       "    .dataframe thead th {\n",
       "        text-align: right;\n",
       "    }\n",
       "</style>\n",
       "<table border=\"1\" class=\"dataframe\">\n",
       "  <thead>\n",
       "    <tr style=\"text-align: right;\">\n",
       "      <th></th>\n",
       "      <th>temp_index</th>\n",
       "      <th>id</th>\n",
       "      <th>title</th>\n",
       "      <th>tags</th>\n",
       "      <th>vote_average</th>\n",
       "      <th>vote_count</th>\n",
       "      <th>popularity</th>\n",
       "      <th>wr</th>\n",
       "      <th>description</th>\n",
       "      <th>poster_link_w185</th>\n",
       "      <th>poster_link_w342</th>\n",
       "      <th>poster_link_w154</th>\n",
       "    </tr>\n",
       "  </thead>\n",
       "  <tbody>\n",
       "    <tr>\n",
       "      <th>0</th>\n",
       "      <td>0</td>\n",
       "      <td>19995</td>\n",
       "      <td>Avatar</td>\n",
       "      <td>action adventure fantasy sciencefiction in the...</td>\n",
       "      <td>7</td>\n",
       "      <td>11800</td>\n",
       "      <td>150.437577</td>\n",
       "      <td>6.973551</td>\n",
       "      <td>[Action, Adventure, Fantasy, ScienceFiction, c...</td>\n",
       "      <td>https://image.tmdb.org/t/p/w185//jRXYjXNq0Cs2T...</td>\n",
       "      <td>https://image.tmdb.org/t/p/w342//jRXYjXNq0Cs2T...</td>\n",
       "      <td>https://image.tmdb.org/t/p/w154//jRXYjXNq0Cs2T...</td>\n",
       "    </tr>\n",
       "    <tr>\n",
       "      <th>1</th>\n",
       "      <td>1</td>\n",
       "      <td>285</td>\n",
       "      <td>Pirates of the Caribbean: At World's End</td>\n",
       "      <td>adventure fantasy action captain barbossa, lon...</td>\n",
       "      <td>6</td>\n",
       "      <td>4500</td>\n",
       "      <td>139.082615</td>\n",
       "      <td>5.982823</td>\n",
       "      <td>[Adventure, Fantasy, Action, ocean, drug abuse...</td>\n",
       "      <td>https://image.tmdb.org/t/p/w185//jGWpG4YhpQwVm...</td>\n",
       "      <td>https://image.tmdb.org/t/p/w342//jGWpG4YhpQwVm...</td>\n",
       "      <td>https://image.tmdb.org/t/p/w154//jGWpG4YhpQwVm...</td>\n",
       "    </tr>\n",
       "  </tbody>\n",
       "</table>\n",
       "</div>"
      ],
      "text/plain": [
       "   temp_index     id                                     title  \\\n",
       "0           0  19995                                    Avatar   \n",
       "1           1    285  Pirates of the Caribbean: At World's End   \n",
       "\n",
       "                                                tags  vote_average  \\\n",
       "0  action adventure fantasy sciencefiction in the...             7   \n",
       "1  adventure fantasy action captain barbossa, lon...             6   \n",
       "\n",
       "   vote_count  popularity        wr  \\\n",
       "0       11800  150.437577  6.973551   \n",
       "1        4500  139.082615  5.982823   \n",
       "\n",
       "                                         description  \\\n",
       "0  [Action, Adventure, Fantasy, ScienceFiction, c...   \n",
       "1  [Adventure, Fantasy, Action, ocean, drug abuse...   \n",
       "\n",
       "                                    poster_link_w185  \\\n",
       "0  https://image.tmdb.org/t/p/w185//jRXYjXNq0Cs2T...   \n",
       "1  https://image.tmdb.org/t/p/w185//jGWpG4YhpQwVm...   \n",
       "\n",
       "                                    poster_link_w342  \\\n",
       "0  https://image.tmdb.org/t/p/w342//jRXYjXNq0Cs2T...   \n",
       "1  https://image.tmdb.org/t/p/w342//jGWpG4YhpQwVm...   \n",
       "\n",
       "                                    poster_link_w154  \n",
       "0  https://image.tmdb.org/t/p/w154//jRXYjXNq0Cs2T...  \n",
       "1  https://image.tmdb.org/t/p/w154//jGWpG4YhpQwVm...  "
      ]
     },
     "execution_count": 44,
     "metadata": {},
     "output_type": "execute_result"
    }
   ],
   "source": [
    "new_df.head(2)"
   ]
  },
  {
   "cell_type": "code",
   "execution_count": 45,
   "id": "214496cd",
   "metadata": {},
   "outputs": [
    {
     "name": "stderr",
     "output_type": "stream",
     "text": [
      "C:\\Users\\Admin\\AppData\\Local\\Temp\\ipykernel_17504\\3420659576.py:1: SettingWithCopyWarning: \n",
      "A value is trying to be set on a copy of a slice from a DataFrame.\n",
      "Try using .loc[row_indexer,col_indexer] = value instead\n",
      "\n",
      "See the caveats in the documentation: https://pandas.pydata.org/pandas-docs/stable/user_guide/indexing.html#returning-a-view-versus-a-copy\n",
      "  new_df['description']=new_df['description'].apply(lambda x :\" \".join(x))\n",
      "C:\\Users\\Admin\\AppData\\Local\\Temp\\ipykernel_17504\\3420659576.py:2: SettingWithCopyWarning: \n",
      "A value is trying to be set on a copy of a slice from a DataFrame.\n",
      "Try using .loc[row_indexer,col_indexer] = value instead\n",
      "\n",
      "See the caveats in the documentation: https://pandas.pydata.org/pandas-docs/stable/user_guide/indexing.html#returning-a-view-versus-a-copy\n",
      "  new_df['description']= new_df['description'].apply(lambda x:x.lower())\n",
      "C:\\Users\\Admin\\AppData\\Local\\Temp\\ipykernel_17504\\3420659576.py:3: SettingWithCopyWarning: \n",
      "A value is trying to be set on a copy of a slice from a DataFrame.\n",
      "Try using .loc[row_indexer,col_indexer] = value instead\n",
      "\n",
      "See the caveats in the documentation: https://pandas.pydata.org/pandas-docs/stable/user_guide/indexing.html#returning-a-view-versus-a-copy\n",
      "  new_df['description'] = new_df['description'].str.strip('[]').str.replace(' ',' ').str.replace(\"'\",' ').str.replace('\"',' ')\n"
     ]
    }
   ],
   "source": [
    "new_df['description']=new_df['description'].apply(lambda x :\" \".join(x))\n",
    "new_df['description']= new_df['description'].apply(lambda x:x.lower())\n",
    "new_df['description'] = new_df['description'].str.strip('[]').str.replace(' ',' ').str.replace(\"'\",' ').str.replace('\"',' ')"
   ]
  },
  {
   "cell_type": "code",
   "execution_count": 46,
   "id": "db5c981f",
   "metadata": {
    "scrolled": true
   },
   "outputs": [
    {
     "name": "stderr",
     "output_type": "stream",
     "text": [
      "C:\\Users\\Admin\\AppData\\Local\\Temp\\ipykernel_17504\\2107399714.py:10: SettingWithCopyWarning: \n",
      "A value is trying to be set on a copy of a slice from a DataFrame.\n",
      "Try using .loc[row_indexer,col_indexer] = value instead\n",
      "\n",
      "See the caveats in the documentation: https://pandas.pydata.org/pandas-docs/stable/user_guide/indexing.html#returning-a-view-versus-a-copy\n",
      "  new_df['tags'] = new_df['tags'].apply(stemm)\n"
     ]
    }
   ],
   "source": [
    "from nltk.stem.snowball import SnowballStemmer\n",
    "stemmer = SnowballStemmer('english')\n",
    "def stemm(text):\n",
    "    y = []\n",
    "    for i in text.split():\n",
    "        y.append(stemmer.stem(i))\n",
    "        \n",
    "    return \" \".join(y)\n",
    "\n",
    "new_df['tags'] = new_df['tags'].apply(stemm)\n",
    "        "
   ]
  },
  {
   "cell_type": "code",
   "execution_count": 47,
   "id": "65873063",
   "metadata": {
    "scrolled": true
   },
   "outputs": [
    {
     "data": {
      "text/plain": [
       "0       action adventur fantasi sciencefict in the 22n...\n",
       "1       adventur fantasi action captain barbossa, long...\n",
       "2       action adventur crime a cryptic messag from bo...\n",
       "3       action crime drama thriller follow the death o...\n",
       "4       action adventur sciencefict john carter is a w...\n",
       "                              ...                        \n",
       "4804    action crime thriller el mariachi just want to...\n",
       "4805    comedi romanc a newlyw coupl honeymoon is upen...\n",
       "4806    comedi drama romanc tvmovi \"signed, sealed, de...\n",
       "4807    when ambiti new york attorney sam is sent to s...\n",
       "4808    documentari ever sinc the second grade when he...\n",
       "Name: tags, Length: 4809, dtype: object"
      ]
     },
     "execution_count": 47,
     "metadata": {},
     "output_type": "execute_result"
    }
   ],
   "source": [
    "new_df['tags']"
   ]
  },
  {
   "cell_type": "code",
   "execution_count": 48,
   "id": "3f04c25f",
   "metadata": {},
   "outputs": [],
   "source": [
    "from sklearn.feature_extraction.text import TfidfVectorizer\n",
    "vectorizer = TfidfVectorizer(stop_words = 'english',max_features=5000)\n",
    "\n",
    "tfidf = vectorizer.fit_transform(new_df['tags']).toarray()"
   ]
  },
  {
   "cell_type": "code",
   "execution_count": 49,
   "id": "df0a20da",
   "metadata": {
    "scrolled": false
   },
   "outputs": [
    {
     "data": {
      "text/plain": [
       "(4809, 5000)"
      ]
     },
     "execution_count": 49,
     "metadata": {},
     "output_type": "execute_result"
    }
   ],
   "source": [
    "tfidf.shape"
   ]
  },
  {
   "cell_type": "code",
   "execution_count": 50,
   "id": "d256867f",
   "metadata": {},
   "outputs": [],
   "source": [
    "from sklearn.metrics.pairwise import cosine_similarity\n",
    "similarity1 = cosine_similarity(tfidf)    "
   ]
  },
  {
   "cell_type": "code",
   "execution_count": 51,
   "id": "5829d1a7",
   "metadata": {
    "scrolled": true
   },
   "outputs": [
    {
     "data": {
      "text/plain": [
       "array([[1.        , 0.01656285, 0.02176532, ..., 0.02987909, 0.        ,\n",
       "        0.        ],\n",
       "       [0.01656285, 1.        , 0.01117812, ..., 0.01528266, 0.00680889,\n",
       "        0.        ],\n",
       "       [0.02176532, 0.01117812, 1.        , ..., 0.01212258, 0.        ,\n",
       "        0.        ],\n",
       "       ...,\n",
       "       [0.02987909, 0.01528266, 0.01212258, ..., 1.        , 0.01405707,\n",
       "        0.0380721 ],\n",
       "       [0.        , 0.00680889, 0.        , ..., 0.01405707, 1.        ,\n",
       "        0.01463272],\n",
       "       [0.        , 0.        , 0.        , ..., 0.0380721 , 0.01463272,\n",
       "        1.        ]])"
      ]
     },
     "execution_count": 51,
     "metadata": {},
     "output_type": "execute_result"
    }
   ],
   "source": [
    "similarity1"
   ]
  },
  {
   "cell_type": "code",
   "execution_count": null,
   "id": "0c2e31a2",
   "metadata": {},
   "outputs": [],
   "source": []
  },
  {
   "cell_type": "code",
   "execution_count": 52,
   "id": "34391b4e",
   "metadata": {},
   "outputs": [
    {
     "data": {
      "text/plain": [
       "(4809, 4809)"
      ]
     },
     "execution_count": 52,
     "metadata": {},
     "output_type": "execute_result"
    }
   ],
   "source": [
    "similarity1.shape"
   ]
  },
  {
   "cell_type": "code",
   "execution_count": 53,
   "id": "9aa99448",
   "metadata": {
    "collapsed": true
   },
   "outputs": [
    {
     "name": "stderr",
     "output_type": "stream",
     "text": [
      "C:\\Users\\Admin\\AppData\\Local\\Temp\\ipykernel_17504\\1346696753.py:1: SettingWithCopyWarning: \n",
      "A value is trying to be set on a copy of a slice from a DataFrame.\n",
      "Try using .loc[row_indexer,col_indexer] = value instead\n",
      "\n",
      "See the caveats in the documentation: https://pandas.pydata.org/pandas-docs/stable/user_guide/indexing.html#returning-a-view-versus-a-copy\n",
      "  new_df['similarity_col'] = similarity1.tolist()\n"
     ]
    }
   ],
   "source": [
    "new_df['similarity_col'] = similarity1.tolist()"
   ]
  },
  {
   "cell_type": "code",
   "execution_count": 56,
   "id": "ea89803e",
   "metadata": {},
   "outputs": [
    {
     "data": {
      "text/html": [
       "<div>\n",
       "<style scoped>\n",
       "    .dataframe tbody tr th:only-of-type {\n",
       "        vertical-align: middle;\n",
       "    }\n",
       "\n",
       "    .dataframe tbody tr th {\n",
       "        vertical-align: top;\n",
       "    }\n",
       "\n",
       "    .dataframe thead th {\n",
       "        text-align: right;\n",
       "    }\n",
       "</style>\n",
       "<table border=\"1\" class=\"dataframe\">\n",
       "  <thead>\n",
       "    <tr style=\"text-align: right;\">\n",
       "      <th></th>\n",
       "      <th>temp_index</th>\n",
       "      <th>id</th>\n",
       "      <th>title</th>\n",
       "      <th>tags</th>\n",
       "      <th>vote_average</th>\n",
       "      <th>vote_count</th>\n",
       "      <th>popularity</th>\n",
       "      <th>wr</th>\n",
       "      <th>description</th>\n",
       "      <th>poster_link_w185</th>\n",
       "      <th>poster_link_w342</th>\n",
       "      <th>poster_link_w154</th>\n",
       "      <th>similarity_col</th>\n",
       "    </tr>\n",
       "  </thead>\n",
       "  <tbody>\n",
       "    <tr>\n",
       "      <th>0</th>\n",
       "      <td>0</td>\n",
       "      <td>19995</td>\n",
       "      <td>Avatar</td>\n",
       "      <td>action adventur fantasi sciencefict in the 22n...</td>\n",
       "      <td>7</td>\n",
       "      <td>11800</td>\n",
       "      <td>150.437577</td>\n",
       "      <td>6.973551</td>\n",
       "      <td>action adventure fantasy sciencefiction cultur...</td>\n",
       "      <td>https://image.tmdb.org/t/p/w185//jRXYjXNq0Cs2T...</td>\n",
       "      <td>https://image.tmdb.org/t/p/w342//jRXYjXNq0Cs2T...</td>\n",
       "      <td>https://image.tmdb.org/t/p/w154//jRXYjXNq0Cs2T...</td>\n",
       "      <td>[1.0, 0.016562848467504727, 0.0217653196359678...</td>\n",
       "    </tr>\n",
       "    <tr>\n",
       "      <th>1</th>\n",
       "      <td>1</td>\n",
       "      <td>285</td>\n",
       "      <td>Pirates of the Caribbean: At World's End</td>\n",
       "      <td>adventur fantasi action captain barbossa, long...</td>\n",
       "      <td>6</td>\n",
       "      <td>4500</td>\n",
       "      <td>139.082615</td>\n",
       "      <td>5.982823</td>\n",
       "      <td>adventure fantasy action ocean drug abuse exot...</td>\n",
       "      <td>https://image.tmdb.org/t/p/w185//jGWpG4YhpQwVm...</td>\n",
       "      <td>https://image.tmdb.org/t/p/w342//jGWpG4YhpQwVm...</td>\n",
       "      <td>https://image.tmdb.org/t/p/w154//jGWpG4YhpQwVm...</td>\n",
       "      <td>[0.016562848467504727, 0.9999999999999999, 0.0...</td>\n",
       "    </tr>\n",
       "  </tbody>\n",
       "</table>\n",
       "</div>"
      ],
      "text/plain": [
       "   temp_index     id                                     title  \\\n",
       "0           0  19995                                    Avatar   \n",
       "1           1    285  Pirates of the Caribbean: At World's End   \n",
       "\n",
       "                                                tags  vote_average  \\\n",
       "0  action adventur fantasi sciencefict in the 22n...             7   \n",
       "1  adventur fantasi action captain barbossa, long...             6   \n",
       "\n",
       "   vote_count  popularity        wr  \\\n",
       "0       11800  150.437577  6.973551   \n",
       "1        4500  139.082615  5.982823   \n",
       "\n",
       "                                         description  \\\n",
       "0  action adventure fantasy sciencefiction cultur...   \n",
       "1  adventure fantasy action ocean drug abuse exot...   \n",
       "\n",
       "                                    poster_link_w185  \\\n",
       "0  https://image.tmdb.org/t/p/w185//jRXYjXNq0Cs2T...   \n",
       "1  https://image.tmdb.org/t/p/w185//jGWpG4YhpQwVm...   \n",
       "\n",
       "                                    poster_link_w342  \\\n",
       "0  https://image.tmdb.org/t/p/w342//jRXYjXNq0Cs2T...   \n",
       "1  https://image.tmdb.org/t/p/w342//jGWpG4YhpQwVm...   \n",
       "\n",
       "                                    poster_link_w154  \\\n",
       "0  https://image.tmdb.org/t/p/w154//jRXYjXNq0Cs2T...   \n",
       "1  https://image.tmdb.org/t/p/w154//jGWpG4YhpQwVm...   \n",
       "\n",
       "                                      similarity_col  \n",
       "0  [1.0, 0.016562848467504727, 0.0217653196359678...  \n",
       "1  [0.016562848467504727, 0.9999999999999999, 0.0...  "
      ]
     },
     "execution_count": 56,
     "metadata": {},
     "output_type": "execute_result"
    }
   ],
   "source": [
    "new_df.head(2)"
   ]
  },
  {
   "cell_type": "code",
   "execution_count": 81,
   "id": "78f8caa6",
   "metadata": {},
   "outputs": [
    {
     "data": {
      "text/plain": [
       "5.7885714285714265"
      ]
     },
     "execution_count": 81,
     "metadata": {},
     "output_type": "execute_result"
    }
   ],
   "source": [
    "# new_df[new_df['title']==\"Avatar\"].index[0]\n",
    "tempL = [1,0.9,0.89,0.87,0.85,0.3,0.1,0.1,0.05,0.3,0.2,0.1,0.1,0.1]\n",
    "threshold = sum(tempL)/len(tempL)\n",
    "threshold"
   ]
  },
  {
   "cell_type": "code",
   "execution_count": 54,
   "id": "53ca3110",
   "metadata": {},
   "outputs": [],
   "source": [
    "def predictMovie1(name):\n",
    "    try:\n",
    "        new_entry = new_df[new_df['title']==name].index[0]\n",
    "        distance = similarity1[new_entry]\n",
    "#         return distance\n",
    "        movie_list = sorted(list(enumerate(distance)), reverse = True, key = lambda x : x[1])[0:15]\n",
    "        sumSim = 0\n",
    "#         return movie_list\n",
    "        for i in movie_list:\n",
    "            sumSim += i[1]\n",
    "            print(str(i[1]) +\" - \" + str(new_df.iloc[i[0]].temp_index) + \"-\" + new_df.iloc[i[0]].title)\n",
    "            \n",
    "            \n",
    "        print(f\"\\nThreshold Value: {(sumSim-1)/15}\")\n",
    "        \n",
    "    except IndexError as e:\n",
    "        print('---')\n",
    "        "
   ]
  },
  {
   "cell_type": "code",
   "execution_count": 55,
   "id": "fd057520",
   "metadata": {
    "scrolled": false
   },
   "outputs": [
    {
     "name": "stdout",
     "output_type": "stream",
     "text": [
      "1.0000000000000004 - 487-Red Planet\n",
      "0.3364646057014583 - 270-The Martian\n",
      "0.31607812624194054 - 373-Mission to Mars\n",
      "0.28056977132749333 - 1772-The Right Stuff\n",
      "0.2507308563902002 - 1205-Escape from Planet Earth\n",
      "0.23577512285281035 - 3680-Capricorn One\n",
      "0.23082088734170256 - 661-Zathura: A Space Adventure\n",
      "0.22283350028631768 - 635-Apollo 13\n",
      "0.21986176845885388 - 1486-The Astronaut's Wife\n",
      "0.20666372594892682 - 2973-The Last Days on Mars\n",
      "0.1978068827595198 - 3609-Apollo 18\n",
      "0.19747367961758994 - 3909-Beneath the Planet of the Apes\n",
      "0.19662377193867928 - 239-Gravity\n",
      "0.18973681217989305 - 432-Deep Impact\n",
      "0.18664046232855852 - 473-Mars Attacks!\n",
      "\n",
      "Threshold Value: 0.2178719982249296\n"
     ]
    }
   ],
   "source": [
    "predictMovie1('Red Planet')"
   ]
  },
  {
   "cell_type": "code",
   "execution_count": null,
   "id": "29474207",
   "metadata": {},
   "outputs": [],
   "source": [
    "# 0.9999999999999999 - 270-The Martian\n",
    "# 0.3364646057014583 - 487-Red Planet\n",
    "# 0.3352825505083941 - 4117-In the Shadow of the Moon\n",
    "# 0.3281782360450601 - 635-Apollo 13\n",
    "# 0.3244882894500549 - 373-Mission to Mars\n",
    "# 0.31629326148503606 - 239-Gravity\n",
    "# 0.30088479016365133 - 149-Armageddon\n",
    "# 0.2995094742198166 - 1205-Escape from Planet Earth\n",
    "# 0.28795237028990855 - 643-Space Cowboys\n",
    "# 0.2866531973521188 - 3680-Capricorn One\n",
    "# 0.28549979625145316 - 95-Interstellar\n",
    "# 0.2728088548801347 - 432-Deep Impact\n",
    "# 0.2705708641953177 - 1772-The Right Stuff\n",
    "# --------------------------------------------------------\n",
    "# 0.2638875532556214 - 778-Meet Dave\n",
    "# 0.26326460158756215 - 661-Zathura: A Space Adventure\n",
    "# 0.25377629494766113 - 1544-Moonraker\n",
    "# 0.23522448251987663 - 1857-The Grey\n",
    "# 0.23518691190500635 - 3167-Alien\n",
    "# 0.23414039887007435 - 1278-Pandorum\n",
    "# 0.23359635983106797 - 1486-The Astronaut's Wife\n",
    "\n",
    "# Threshold Value: 0.2681831446729638"
   ]
  },
  {
   "cell_type": "code",
   "execution_count": 93,
   "id": "08c1c530",
   "metadata": {},
   "outputs": [
    {
     "data": {
      "text/plain": [
       "'Avatar'"
      ]
     },
     "execution_count": 93,
     "metadata": {},
     "output_type": "execute_result"
    }
   ],
   "source": [
    "new_df.loc[0].title"
   ]
  },
  {
   "cell_type": "code",
   "execution_count": 89,
   "id": "84ea4f6e",
   "metadata": {},
   "outputs": [
    {
     "data": {
      "text/plain": [
       "temp_index                                                          0\n",
       "id                                                              19995\n",
       "title                                                          Avatar\n",
       "tags                action adventur fantasi sciencefict in the 22n...\n",
       "vote_average                                                        7\n",
       "vote_count                                                      11800\n",
       "popularity                                                 150.437577\n",
       "wr                                                           6.973551\n",
       "description         action adventure fantasy sciencefiction cultur...\n",
       "poster_link_w185    https://image.tmdb.org/t/p/w185//jRXYjXNq0Cs2T...\n",
       "poster_link_w342    https://image.tmdb.org/t/p/w342//jRXYjXNq0Cs2T...\n",
       "poster_link_w154    https://image.tmdb.org/t/p/w154//jRXYjXNq0Cs2T...\n",
       "similarity_col      [1.0, 0.016562848467504727, 0.0217653196359678...\n",
       "Name: 0, dtype: object"
      ]
     },
     "execution_count": 89,
     "metadata": {},
     "output_type": "execute_result"
    }
   ],
   "source": [
    "new_df.loc[0]"
   ]
  },
  {
   "cell_type": "code",
   "execution_count": 116,
   "id": "1c078064",
   "metadata": {},
   "outputs": [],
   "source": [
    "\n",
    "\n",
    "def predictMovie2(name):\n",
    "    try:\n",
    "        new_entry = new_df[new_df['title']==name].index[0]\n",
    "        distance = similarity1[new_entry]\n",
    "        movie_list = sorted(list(enumerate(distance)), reverse = True, key = lambda x:x[1])[0:20]\n",
    "        \n",
    "        \n",
    "        sumOfSim = 0\n",
    "        for i in movie_list:\n",
    "            sumOfSim += i[1]\n",
    "#         print((sumOfSim-1)/20)\n",
    "        \n",
    "        thres_value = (sumOfSim-1)/19\n",
    "        print(thres_value)\n",
    "        \n",
    "        for i in movie_list:\n",
    "            if i[1] > thres_value:\n",
    "                print(str(i[1]) + \"-\" + str(new_df.iloc[i[0]].temp_index) +\"-\"+new_df.iloc[i[0]].title)\n",
    "            else:\n",
    "                continue\n",
    "        \n",
    "#         for i in movie_list:\n",
    "            \n",
    "#             print(str(i[1]) + \"-\" + str(new_df.iloc[i[0]].temp_index) +\"-\"+new_df.iloc[i[0]].title)\n",
    "            \n",
    "    except IndexError as e:\n",
    "        name2 = name.lower()\n",
    "        movie_list = new_df[new_df['description'].str.contains(r\"\\b{}\\b\".format(name2))]\n",
    "#         print(movie_list)\n",
    "        w_c = []\n",
    "        \n",
    "        \n",
    "        for index, row in movie_list.iterrows():\n",
    "            w_c.append((index, row['description'].count(name2), row['popularity']))\n",
    "        w_c = sorted(w_c, reverse = True, key = lambda x :x[1])\n",
    "        print(w_c)\n",
    "\n",
    "\n",
    "        total_mov_ls = []\n",
    "        if len(w_c) == 0:\n",
    "            return [{\"error\":\"doesnt match with any movie\"}]\n",
    "        elif len(w_c) > 7:\n",
    "            for i in range(0, 7):\n",
    "                total_mov_ls.append(w_c[i])\n",
    "        else:\n",
    "            total_mov_ls = w_c\n",
    "            \n",
    "            \n",
    "#         total_mov_ls = sorted(total_mov_ls, reverse = True, key = lambda x : x[2])\n",
    "#         print(total_mov_ls)\n",
    "        dist_list = []\n",
    "        for i in total_mov_ls:\n",
    "\n",
    "            new_entry = new_df[new_df['title'] == new_df.iloc[i[0]].title].index[0]\n",
    "            distance = similarity1[new_entry]\n",
    "#             print(distance)\n",
    "            movie_list1 = sorted(list(enumerate(distance)), reverse = True, key = lambda x : x[1])[0:20]\n",
    "            \n",
    "            sumThres = 0\n",
    "            for i in movie_list1:\n",
    "                sumThres += i[1]\n",
    "                \n",
    "            thres_value = (sumThres-1)/19\n",
    "#             print(thres_value)\n",
    "            \n",
    "            for i in movie_list1:\n",
    "                if i[1] > thres_value:\n",
    "                    dist_list.append((i[1], new_df.iloc[i[0]].temp_index, new_df.iloc[i[0]].popularity))\n",
    "                else:\n",
    "                    continue\n",
    "        dist_list = sorted(dist_list, reverse = True, key = lambda x : x[0])\n",
    "#         print(dist_list)\n",
    "                    \n",
    "    \n",
    "    \n",
    "#             print(movie_list1)\n",
    "#             for i in movie_list1:\n",
    "#                 dist_list.append((i[1], new_df.iloc[i[0]].temp_index, new_df.iloc[i[0]].popularity))\n",
    "#         dist_list = sorted(dist_list, reverse = True, key = lambda x : x[0])\n",
    "        \n",
    "        \n",
    "        \n",
    "\n",
    "        temp_i_list = []\n",
    "        fin_mov_ls = []\n",
    "        for i in dist_list:\n",
    "            if i[1] not in temp_i_list:\n",
    "                temp_i_list.append(i[1])\n",
    "                fin_mov_ls.append(i)\n",
    "            else:\n",
    "                continue\n",
    "                \n",
    "            \n",
    "#         print(\"unique\",fin_mov_ls)\n",
    "        fin_mov_ls = sorted(fin_mov_ls, reverse = True, key = lambda x : x[0])[0:25]\n",
    "        fin_mov_ls = sorted(fin_mov_ls, reverse = True, key = lambda x : x[2])\n",
    "#         print(fin_mov_ls)\n",
    "#         print(fin_mov_ls)\n",
    "        first_list = []\n",
    "        second_list = []\n",
    "        for i in fin_mov_ls:\n",
    "            if i[0] > 0.98:\n",
    "                d = {\"movie_name\":new_df.iloc[i[1]].title,\"poster_link\":new_df.iloc[i[1]].poster_link_w342,\n",
    "                 \"sim_score\":i[0]\n",
    "                }\n",
    "                first_list.append(d)\n",
    "            else:\n",
    "                d1 = {\"movie_name\":new_df.iloc[i[1]].title,\"poster_link\":new_df.iloc[i[1]].poster_link_w342,\n",
    "                 \"sim_score\":i[0]\n",
    "                }\n",
    "                second_list.append(d1)\n",
    "        return [first_list, second_list]\n",
    "            \n",
    "    except:\n",
    "        return [{\"error\":\"error\"}]\n",
    "    \n",
    "    \n",
    "        \n",
    "        \n",
    "        \n",
    "    \n",
    "#         for i in fin_mov_ls:\n",
    "#             print(str(i[1]) + \" ---> \"+str(i[0])+\" ---> \"+new_df.iloc[i[1]].title)\n",
    "#         for i in fin_mov_ls:\n",
    "#             d = {\"movie_name\":new_df.iloc[i[1]].title,\"poster_link\":new_df.iloc[i[1]].poster_link_w185}\n",
    "#             final_list.append(d)\n",
    "#         return final_list\n",
    "#     except:\n",
    "#         print(\"error\")\n",
    "            "
   ]
  },
  {
   "cell_type": "code",
   "execution_count": 117,
   "id": "d5f236b6",
   "metadata": {
    "scrolled": true
   },
   "outputs": [
    {
     "name": "stdout",
     "output_type": "stream",
     "text": [
      "[(138, 2, 33.769336), (0, 1, 150.437577), (4405, 1, 1.50211), (4674, 1, 1.183892)]\n",
      "[(1.0000000000000004, 4405, 1.50211), (1.0, 138, 33.769336), (1.0, 0, 150.437577), (1.0, 4674, 1.183892), (0.35490667636487117, 2416, 67.66094), (0.30985643965921816, 1544, 29.887404), (0.298632643972328, 4339, 11.095414), (0.290728122085263, 47, 78.291018), (0.28410628949483185, 575, 27.299301), (0.283571134846151, 2097, 21.928025), (0.27897533913202954, 838, 45.856409), (0.27621061646076295, 3167, 94.184658), (0.2659084052824525, 344, 37.698465), (0.24799105885245692, 4119, 3.980072), (0.24496216876384283, 2299, 13.664614), (0.23770164884456008, 4041, 4.624691), (0.23454702492396626, 2497, 19.890428), (0.22989873367933994, 769, 18.815442), (0.2084962239066607, 363, 34.035114), (0.2081915281008895, 4703, 6.722213), (0.2074233938482626, 4274, 0.43049), (0.2029814339344001, 4305, 4.826908), (0.19391092419279138, 4143, 6.632891), (0.19354537831031546, 3193, 3.810697), (0.1913394366199671, 4641, 1.70819), (0.18818717283774858, 1638, 5.301589), (0.17704492286635776, 4508, 0.350557), (0.1753528624941587, 1452, 9.904881), (0.17296080099466893, 685, 19.412028), (0.16317973309448727, 514, 85.115058), (0.1623135655559369, 2319, 30.205943), (0.158143802604966, 1692, 10.958697)]\n",
      "unique [(1.0000000000000004, 4405, 1.50211), (1.0, 138, 33.769336), (1.0, 0, 150.437577), (1.0, 4674, 1.183892), (0.35490667636487117, 2416, 67.66094), (0.30985643965921816, 1544, 29.887404), (0.298632643972328, 4339, 11.095414), (0.290728122085263, 47, 78.291018), (0.28410628949483185, 575, 27.299301), (0.283571134846151, 2097, 21.928025), (0.27897533913202954, 838, 45.856409), (0.27621061646076295, 3167, 94.184658), (0.2659084052824525, 344, 37.698465), (0.24799105885245692, 4119, 3.980072), (0.24496216876384283, 2299, 13.664614), (0.23770164884456008, 4041, 4.624691), (0.23454702492396626, 2497, 19.890428), (0.22989873367933994, 769, 18.815442), (0.2084962239066607, 363, 34.035114), (0.2081915281008895, 4703, 6.722213), (0.2074233938482626, 4274, 0.43049), (0.2029814339344001, 4305, 4.826908), (0.19391092419279138, 4143, 6.632891), (0.19354537831031546, 3193, 3.810697), (0.1913394366199671, 4641, 1.70819), (0.18818717283774858, 1638, 5.301589), (0.17704492286635776, 4508, 0.350557), (0.1753528624941587, 1452, 9.904881), (0.17296080099466893, 685, 19.412028), (0.16317973309448727, 514, 85.115058), (0.1623135655559369, 2319, 30.205943), (0.158143802604966, 1692, 10.958697)]\n"
     ]
    },
    {
     "data": {
      "text/plain": [
       "[[{'movie_name': 'Avatar',\n",
       "   'poster_link': 'https://image.tmdb.org/t/p/w342//jRXYjXNq0Cs2TcJjLkki24MLp7u.jpg',\n",
       "   'sim_score': 1.0},\n",
       "  {'movie_name': 'The Last Airbender',\n",
       "   'poster_link': 'https://image.tmdb.org/t/p/w342//zgwRTYWEEPivTwjB9S03HtmMcbM.jpg',\n",
       "   'sim_score': 1.0},\n",
       "  {'movie_name': 'Creative Control',\n",
       "   'poster_link': 'https://image.tmdb.org/t/p/w342//y8toiQT0xb6mLWT84xVhUNXICdg.jpg',\n",
       "   'sim_score': 1.0000000000000004},\n",
       "  {'movie_name': 'The Stewardesses',\n",
       "   'poster_link': 'https://image.tmdb.org/t/p/w342//otrgebmsmyFVXv2R5pWp3DqY9eQ.jpg',\n",
       "   'sim_score': 1.0}],\n",
       " [{'movie_name': 'Alien',\n",
       "   'poster_link': 'https://image.tmdb.org/t/p/w342//vfrQk5IPloGg1v9Rzbh2Eg3VGyM.jpg',\n",
       "   'sim_score': 0.27621061646076295},\n",
       "  {'movie_name': 'Star Trek Into Darkness',\n",
       "   'poster_link': 'https://image.tmdb.org/t/p/w342//7XrRkhMa9lQ71RszzSyVrJVvhyS.jpg',\n",
       "   'sim_score': 0.290728122085263},\n",
       "  {'movie_name': 'Aliens',\n",
       "   'poster_link': 'https://image.tmdb.org/t/p/w342//r1x5JGpyqZU8PYhbs4UcrO1Xb6x.jpg',\n",
       "   'sim_score': 0.35490667636487117},\n",
       "  {'movie_name': 'Alien³',\n",
       "   'poster_link': 'https://image.tmdb.org/t/p/w342//hlabk6APJUeihZDaSD9N6iI0f4g.jpg',\n",
       "   'sim_score': 0.27897533913202954},\n",
       "  {'movie_name': 'Unstoppable',\n",
       "   'poster_link': 'https://image.tmdb.org/t/p/w342//zKvHwL0GqLOear8rTnUPSTRYY0r.jpg',\n",
       "   'sim_score': 0.2659084052824525},\n",
       "  {'movie_name': 'A.I. Artificial Intelligence',\n",
       "   'poster_link': 'https://image.tmdb.org/t/p/w342//8MZSGX5JORoO72EfuAEcejH5yHn.jpg',\n",
       "   'sim_score': 0.2084962239066607},\n",
       "  {'movie_name': 'Moonraker',\n",
       "   'poster_link': 'https://image.tmdb.org/t/p/w342//6LrJdXNmu5uHOVALZxVYd44Lva0.jpg',\n",
       "   'sim_score': 0.30985643965921816},\n",
       "  {'movie_name': 'Vanilla Sky',\n",
       "   'poster_link': 'https://image.tmdb.org/t/p/w342//cAh2pCiNPftsY3aSqJuIOde7uWr.jpg',\n",
       "   'sim_score': 0.28410628949483185},\n",
       "  {'movie_name': 'eXistenZ',\n",
       "   'poster_link': 'https://image.tmdb.org/t/p/w342//kETKF0JhdTPn1knci8CAdYL0d79.jpg',\n",
       "   'sim_score': 0.283571134846151},\n",
       "  {'movie_name': 'The Thirteenth Floor',\n",
       "   'poster_link': 'https://image.tmdb.org/t/p/w342//7oaie3ZBc9UuWZLF24crro1pone.jpg',\n",
       "   'sim_score': 0.23454702492396626},\n",
       "  {'movie_name': 'Sinbad: Legend of the Seven Seas',\n",
       "   'poster_link': 'https://image.tmdb.org/t/p/w342//nwD8sBSOpifIHqjz7APIkttcIFe.jpg',\n",
       "   'sim_score': 0.22989873367933994},\n",
       "  {'movie_name': 'House on Haunted Hill',\n",
       "   'poster_link': 'https://image.tmdb.org/t/p/w342//weiGTsZqBglKxkIn5xj1nEjxn81.jpg',\n",
       "   'sim_score': 0.24496216876384283},\n",
       "  {'movie_name': 'Silent Running',\n",
       "   'poster_link': 'https://image.tmdb.org/t/p/w342//ahasZ5HILZHtlrl6cbXgpfk0y8H.jpg',\n",
       "   'sim_score': 0.298632643972328},\n",
       "  {'movie_name': \"She's Gotta Have It\",\n",
       "   'poster_link': 'https://image.tmdb.org/t/p/w342//qiJuXvPONqTSSnzhbCBqE7EotV.jpg',\n",
       "   'sim_score': 0.2081915281008895},\n",
       "  {'movie_name': 'Lesbian Vampire Killers',\n",
       "   'poster_link': 'https://image.tmdb.org/t/p/w342//3IROnPMgDnI1TYQ4PZBB0nn6CwX.jpg',\n",
       "   'sim_score': 0.19391092419279138},\n",
       "  {'movie_name': \"But I'm a Cheerleader\",\n",
       "   'poster_link': 'https://image.tmdb.org/t/p/w342//bemsTZ7S0dkiQA36mw8vpdZY297.jpg',\n",
       "   'sim_score': 0.2029814339344001},\n",
       "  {'movie_name': 'Sleep Dealer',\n",
       "   'poster_link': 'https://image.tmdb.org/t/p/w342//kFXQ4oMJkXAWjyo7Tr5GrLjmk61.jpg',\n",
       "   'sim_score': 0.23770164884456008},\n",
       "  {'movie_name': 'Inside Deep Throat',\n",
       "   'poster_link': 'https://image.tmdb.org/t/p/w342//iy96Ud1jpnjOEYiHh2XMooD1PfG.jpg',\n",
       "   'sim_score': 0.24799105885245692},\n",
       "  {'movie_name': 'The Ice Pirates',\n",
       "   'poster_link': 'https://image.tmdb.org/t/p/w342//tv2iZbQYWwKcWOUWVFxOhcchKZT.jpg',\n",
       "   'sim_score': 0.19354537831031546},\n",
       "  {'movie_name': 'The Incredibly True Adventure of Two Girls In Love',\n",
       "   'poster_link': 'https://image.tmdb.org/t/p/w342//dSQq2WL8WhrCGb83mjJ5LeJ0RLX.jpg',\n",
       "   'sim_score': 0.1913394366199671},\n",
       "  {'movie_name': 'House at the End of the Drive',\n",
       "   'poster_link': 'https://image.tmdb.org/t/p/w342//AmW0Rz1McoXMYPxl5WoootpiJsz.jpg',\n",
       "   'sim_score': 0.2074233938482626}]]"
      ]
     },
     "execution_count": 117,
     "metadata": {},
     "output_type": "execute_result"
    }
   ],
   "source": [
    "predictMovie2(\"avatar\")"
   ]
  },
  {
   "cell_type": "code",
   "execution_count": null,
   "id": "2f46a2c6",
   "metadata": {},
   "outputs": [],
   "source": [
    "[[{'movie_name': 'Captain America: Civil War',\n",
    "   'poster_link': 'https://image.tmdb.org/t/p/w342//rAGiXaUfPzY7CDEyNKUofk3Kw2e.jpg',\n",
    "   'sim_score': 1.0000000000000002},\n",
    "  {'movie_name': 'Iron Man',\n",
    "   'poster_link': 'https://image.tmdb.org/t/p/w342//78lPtwv72eTNqFW9COBYI0dWDJa.jpg',\n",
    "   'sim_score': 1.0000000000000002},\n",
    "  {'movie_name': 'Iron Man 3',\n",
    "   'poster_link': 'https://image.tmdb.org/t/p/w342//qhPtAc1TKbMPqNvcdXSOn9Bn7hZ.jpg',\n",
    "   'sim_score': 1.0},\n",
    "  {'movie_name': 'Iron Man 2',\n",
    "   'poster_link': 'https://image.tmdb.org/t/p/w342//6WBeq4fCfn7AN0o21W9qNcRF2l9.jpg',\n",
    "   'sim_score': 1.0000000000000002}],\n",
    " [{'movie_name': 'The Avengers',\n",
    "   'poster_link': 'https://image.tmdb.org/t/p/w342//RYMX2wcKCBAr24UyPD7xwmjaTn.jpg',\n",
    "   'sim_score': 0.4296455520595097},\n",
    "  {'movie_name': 'Avengers: Age of Ultron',\n",
    "   'poster_link': 'https://image.tmdb.org/t/p/w342//4ssDuvEDkSArWEdyBl2X5EHvYKU.jpg',\n",
    "   'sim_score': 0.4294195475066936},\n",
    "  {'movie_name': 'Captain America: The First Avenger',\n",
    "   'poster_link': 'https://image.tmdb.org/t/p/w342//vSNxAJTlD0r02V9sPYpOjqDZXUK.jpg',\n",
    "   'sim_score': 0.3999997902857356},\n",
    "  {'movie_name': 'Captain America: The Winter Soldier',\n",
    "   'poster_link': 'https://image.tmdb.org/t/p/w342//tVFRpFw3xTedgPGqxW0AOI8Qhh0.jpg',\n",
    "   'sim_score': 0.4197765934660188}]]"
   ]
  },
  {
   "cell_type": "code",
   "execution_count": 127,
   "id": "35dd6d40",
   "metadata": {
    "scrolled": true
   },
   "outputs": [
    {
     "data": {
      "text/plain": [
       "(6, 13)"
      ]
     },
     "execution_count": 127,
     "metadata": {},
     "output_type": "execute_result"
    }
   ],
   "source": [
    "new_df[new_df['description'].str.contains(r\"\\b{}\\b\".format(\"ironman\"))].shape"
   ]
  },
  {
   "cell_type": "code",
   "execution_count": null,
   "id": "8d104c25",
   "metadata": {},
   "outputs": [],
   "source": [
    "# 270 ---> 1.0000000000000002 ---> The Martian\n",
    "# 4 ---> 1.0 ---> John Carter\n",
    "# 141 ---> 1.0 ---> Mars Needs Moms\n",
    "# 752 ---> 1.0 ---> My Favorite Martian\n",
    "# 3914 ---> 1.0 ---> Spaced Invaders\n",
    "# 1781 ---> 0.9999999999999999 ---> Martian Child\n",
    "# 487 ---> 0.27468381469379294 ---> Red Planet\n",
    "# 373 ---> 0.2375253360045371 ---> Mission to Mars\n",
    "# 692 ---> 0.2352149360933455 ---> Chicken Little\n",
    "# 149 ---> 0.22860134573388446 ---> Armageddon"
   ]
  },
  {
   "cell_type": "code",
   "execution_count": 163,
   "id": "422aa758",
   "metadata": {},
   "outputs": [
    {
     "data": {
      "text/plain": [
       "'Ghosts of Mars'"
      ]
     },
     "execution_count": 163,
     "metadata": {},
     "output_type": "execute_result"
    }
   ],
   "source": [
    "new_df.iloc[1748].title"
   ]
  },
  {
   "cell_type": "code",
   "execution_count": 53,
   "id": "c0a7aba5",
   "metadata": {},
   "outputs": [
    {
     "data": {
      "text/plain": [
       "Index(['temp_index', 'id', 'title', 'tags', 'vote_average', 'vote_count',\n",
       "       'popularity', 'wr', 'description', 'poster_link_w185',\n",
       "       'poster_link_w342', 'poster_link_w154', 'similarity_col'],\n",
       "      dtype='object')"
      ]
     },
     "execution_count": 53,
     "metadata": {},
     "output_type": "execute_result"
    }
   ],
   "source": [
    "new_df.columns"
   ]
  },
  {
   "cell_type": "code",
   "execution_count": 54,
   "id": "60c9ee9c",
   "metadata": {},
   "outputs": [],
   "source": [
    "import pickle\n",
    "pickle.dump(new_df, open('new_df.pkl', 'wb'))"
   ]
  },
  {
   "cell_type": "code",
   "execution_count": 385,
   "id": "8ef7ffb0",
   "metadata": {},
   "outputs": [],
   "source": [
    "import pickle\n",
    "pickle.dump(similarity1,open('similarity2.pkl','wb'))"
   ]
  },
  {
   "cell_type": "code",
   "execution_count": null,
   "id": "c4f56af7",
   "metadata": {},
   "outputs": [],
   "source": []
  }
 ],
 "metadata": {
  "kernelspec": {
   "display_name": "Python 3 (ipykernel)",
   "language": "python",
   "name": "python3"
  },
  "language_info": {
   "codemirror_mode": {
    "name": "ipython",
    "version": 3
   },
   "file_extension": ".py",
   "mimetype": "text/x-python",
   "name": "python",
   "nbconvert_exporter": "python",
   "pygments_lexer": "ipython3",
   "version": "3.9.13"
  }
 },
 "nbformat": 4,
 "nbformat_minor": 5
}
