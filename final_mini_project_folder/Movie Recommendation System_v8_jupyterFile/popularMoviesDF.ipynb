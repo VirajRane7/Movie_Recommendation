{
 "cells": [
  {
   "cell_type": "code",
   "execution_count": 2,
   "id": "2aec1d0b",
   "metadata": {},
   "outputs": [],
   "source": [
    "import pandas as pd\n",
    "import numpy as np"
   ]
  },
  {
   "cell_type": "code",
   "execution_count": 3,
   "id": "a60c480a",
   "metadata": {},
   "outputs": [],
   "source": [
    "movies = pd.read_csv('tmdb_5000_movies.csv')\n",
    "links = pd.read_csv('poster_links.csv')"
   ]
  },
  {
   "cell_type": "code",
   "execution_count": 4,
   "id": "c19456b9",
   "metadata": {},
   "outputs": [
    {
     "data": {
      "text/plain": [
       "budget                     0\n",
       "genres                     0\n",
       "homepage                3091\n",
       "id                         0\n",
       "keywords                   0\n",
       "original_language          0\n",
       "original_title             0\n",
       "overview                   3\n",
       "popularity                 0\n",
       "production_companies       0\n",
       "production_countries       0\n",
       "release_date               1\n",
       "revenue                    0\n",
       "runtime                    2\n",
       "spoken_languages           0\n",
       "status                     0\n",
       "tagline                  844\n",
       "title                      0\n",
       "vote_average               0\n",
       "vote_count                 0\n",
       "dtype: int64"
      ]
     },
     "execution_count": 4,
     "metadata": {},
     "output_type": "execute_result"
    }
   ],
   "source": [
    "movies.isnull().sum()"
   ]
  },
  {
   "cell_type": "code",
   "execution_count": 5,
   "id": "b798fc00",
   "metadata": {},
   "outputs": [
    {
     "data": {
      "text/plain": [
       "(4803, 20)"
      ]
     },
     "execution_count": 5,
     "metadata": {},
     "output_type": "execute_result"
    }
   ],
   "source": [
    "movies.shape"
   ]
  },
  {
   "cell_type": "code",
   "execution_count": 6,
   "id": "e9e20577",
   "metadata": {},
   "outputs": [],
   "source": [
    "movies = movies.merge(links, on = 'id')"
   ]
  },
  {
   "cell_type": "code",
   "execution_count": 7,
   "id": "2c46e8c5",
   "metadata": {},
   "outputs": [
    {
     "data": {
      "text/plain": [
       "(4797, 24)"
      ]
     },
     "execution_count": 7,
     "metadata": {},
     "output_type": "execute_result"
    }
   ],
   "source": [
    "movies.shape"
   ]
  },
  {
   "cell_type": "code",
   "execution_count": 8,
   "id": "4bb14900",
   "metadata": {},
   "outputs": [
    {
     "data": {
      "text/plain": [
       "Index(['budget', 'genres', 'homepage', 'id', 'keywords', 'original_language',\n",
       "       'original_title', 'overview', 'popularity', 'production_companies',\n",
       "       'production_countries', 'release_date', 'revenue', 'runtime',\n",
       "       'spoken_languages', 'status', 'tagline', 'title', 'vote_average',\n",
       "       'vote_count', 'Unnamed: 0', 'poster_link_w185', 'poster_link_w342',\n",
       "       'poster_link_w154'],\n",
       "      dtype='object')"
      ]
     },
     "execution_count": 8,
     "metadata": {},
     "output_type": "execute_result"
    }
   ],
   "source": [
    "movies.columns"
   ]
  },
  {
   "cell_type": "code",
   "execution_count": 9,
   "id": "2be05333",
   "metadata": {},
   "outputs": [],
   "source": [
    "popularMovies = movies[['id','title','popularity','vote_average','vote_count','poster_link_w185','poster_link_w342','poster_link_w154']]"
   ]
  },
  {
   "cell_type": "code",
   "execution_count": 10,
   "id": "eb1b48fe",
   "metadata": {},
   "outputs": [
    {
     "data": {
      "text/plain": [
       "id                  0\n",
       "title               0\n",
       "popularity          0\n",
       "vote_average        0\n",
       "vote_count          0\n",
       "poster_link_w185    0\n",
       "poster_link_w342    0\n",
       "poster_link_w154    0\n",
       "dtype: int64"
      ]
     },
     "execution_count": 10,
     "metadata": {},
     "output_type": "execute_result"
    }
   ],
   "source": [
    "popularMovies.isnull().sum()"
   ]
  },
  {
   "cell_type": "code",
   "execution_count": 11,
   "id": "b21396d1",
   "metadata": {},
   "outputs": [],
   "source": [
    "popularMovies.reset_index(drop=True, inplace = True)"
   ]
  },
  {
   "cell_type": "code",
   "execution_count": 12,
   "id": "6093417d",
   "metadata": {},
   "outputs": [
    {
     "name": "stderr",
     "output_type": "stream",
     "text": [
      "C:\\Users\\Admin\\AppData\\Local\\Temp\\ipykernel_4592\\1869101999.py:1: SettingWithCopyWarning: \n",
      "A value is trying to be set on a copy of a slice from a DataFrame.\n",
      "Try using .loc[row_indexer,col_indexer] = value instead\n",
      "\n",
      "See the caveats in the documentation: https://pandas.pydata.org/pandas-docs/stable/user_guide/indexing.html#returning-a-view-versus-a-copy\n",
      "  popularMovies['vote_count'] = popularMovies['vote_count'].astype('int')\n",
      "C:\\Users\\Admin\\AppData\\Local\\Temp\\ipykernel_4592\\1869101999.py:2: SettingWithCopyWarning: \n",
      "A value is trying to be set on a copy of a slice from a DataFrame.\n",
      "Try using .loc[row_indexer,col_indexer] = value instead\n",
      "\n",
      "See the caveats in the documentation: https://pandas.pydata.org/pandas-docs/stable/user_guide/indexing.html#returning-a-view-versus-a-copy\n",
      "  popularMovies['vote_average'] = popularMovies['vote_average'].astype('int')\n"
     ]
    },
    {
     "data": {
      "text/plain": [
       "(4797, 8)"
      ]
     },
     "execution_count": 12,
     "metadata": {},
     "output_type": "execute_result"
    }
   ],
   "source": [
    "\n",
    "\n",
    "popularMovies['vote_count'] = popularMovies['vote_count'].astype('int')\n",
    "popularMovies['vote_average'] = popularMovies['vote_average'].astype('int')\n",
    "\n",
    "vote_counts = movies[movies['vote_count'].notnull()]['vote_count'].astype('int')\n",
    "vote_averages = movies[movies['vote_average'].notnull()]['vote_average'].astype('int')\n",
    "\n",
    "C = vote_averages.mean()\n",
    "m = vote_counts.quantile(0.50)\n",
    "popularMovies.shape"
   ]
  },
  {
   "cell_type": "code",
   "execution_count": 13,
   "id": "22b8b0db",
   "metadata": {},
   "outputs": [],
   "source": [
    "def weighted_rating(x):\n",
    "    v = x['vote_count']\n",
    "    R = x['vote_average']\n",
    "    return (v/(v+m) * R) + (m/(m+v) * C)"
   ]
  },
  {
   "cell_type": "code",
   "execution_count": 14,
   "id": "ae143ab2",
   "metadata": {},
   "outputs": [
    {
     "name": "stderr",
     "output_type": "stream",
     "text": [
      "C:\\Users\\Admin\\AppData\\Local\\Temp\\ipykernel_4592\\3131478990.py:1: SettingWithCopyWarning: \n",
      "A value is trying to be set on a copy of a slice from a DataFrame.\n",
      "Try using .loc[row_indexer,col_indexer] = value instead\n",
      "\n",
      "See the caveats in the documentation: https://pandas.pydata.org/pandas-docs/stable/user_guide/indexing.html#returning-a-view-versus-a-copy\n",
      "  popularMovies['wr'] = popularMovies.apply(weighted_rating, axis=1)\n"
     ]
    }
   ],
   "source": [
    "popularMovies['wr'] = popularMovies.apply(weighted_rating, axis=1)"
   ]
  },
  {
   "cell_type": "code",
   "execution_count": 15,
   "id": "e26a8f82",
   "metadata": {},
   "outputs": [
    {
     "data": {
      "text/html": [
       "<div>\n",
       "<style scoped>\n",
       "    .dataframe tbody tr th:only-of-type {\n",
       "        vertical-align: middle;\n",
       "    }\n",
       "\n",
       "    .dataframe tbody tr th {\n",
       "        vertical-align: top;\n",
       "    }\n",
       "\n",
       "    .dataframe thead th {\n",
       "        text-align: right;\n",
       "    }\n",
       "</style>\n",
       "<table border=\"1\" class=\"dataframe\">\n",
       "  <thead>\n",
       "    <tr style=\"text-align: right;\">\n",
       "      <th></th>\n",
       "      <th>id</th>\n",
       "      <th>title</th>\n",
       "      <th>popularity</th>\n",
       "      <th>vote_average</th>\n",
       "      <th>vote_count</th>\n",
       "      <th>poster_link_w185</th>\n",
       "      <th>poster_link_w342</th>\n",
       "      <th>poster_link_w154</th>\n",
       "      <th>wr</th>\n",
       "    </tr>\n",
       "  </thead>\n",
       "  <tbody>\n",
       "    <tr>\n",
       "      <th>0</th>\n",
       "      <td>19995</td>\n",
       "      <td>Avatar</td>\n",
       "      <td>150.437577</td>\n",
       "      <td>7</td>\n",
       "      <td>11800</td>\n",
       "      <td>https://image.tmdb.org/t/p/w185//jRXYjXNq0Cs2T...</td>\n",
       "      <td>https://image.tmdb.org/t/p/w342//jRXYjXNq0Cs2T...</td>\n",
       "      <td>https://image.tmdb.org/t/p/w154//jRXYjXNq0Cs2T...</td>\n",
       "      <td>6.973534</td>\n",
       "    </tr>\n",
       "    <tr>\n",
       "      <th>1</th>\n",
       "      <td>285</td>\n",
       "      <td>Pirates of the Caribbean: At World's End</td>\n",
       "      <td>139.082615</td>\n",
       "      <td>6</td>\n",
       "      <td>4500</td>\n",
       "      <td>https://image.tmdb.org/t/p/w185//jGWpG4YhpQwVm...</td>\n",
       "      <td>https://image.tmdb.org/t/p/w342//jGWpG4YhpQwVm...</td>\n",
       "      <td>https://image.tmdb.org/t/p/w154//jGWpG4YhpQwVm...</td>\n",
       "      <td>5.982780</td>\n",
       "    </tr>\n",
       "    <tr>\n",
       "      <th>2</th>\n",
       "      <td>206647</td>\n",
       "      <td>Spectre</td>\n",
       "      <td>107.376788</td>\n",
       "      <td>6</td>\n",
       "      <td>4466</td>\n",
       "      <td>https://image.tmdb.org/t/p/w185//672kUEMtTHcaV...</td>\n",
       "      <td>https://image.tmdb.org/t/p/w342//672kUEMtTHcaV...</td>\n",
       "      <td>https://image.tmdb.org/t/p/w154//672kUEMtTHcaV...</td>\n",
       "      <td>5.982656</td>\n",
       "    </tr>\n",
       "    <tr>\n",
       "      <th>3</th>\n",
       "      <td>49026</td>\n",
       "      <td>The Dark Knight Rises</td>\n",
       "      <td>112.312950</td>\n",
       "      <td>7</td>\n",
       "      <td>9106</td>\n",
       "      <td>https://image.tmdb.org/t/p/w185//85cWkCVftiVs0...</td>\n",
       "      <td>https://image.tmdb.org/t/p/w342//85cWkCVftiVs0...</td>\n",
       "      <td>https://image.tmdb.org/t/p/w154//85cWkCVftiVs0...</td>\n",
       "      <td>6.965903</td>\n",
       "    </tr>\n",
       "    <tr>\n",
       "      <th>4</th>\n",
       "      <td>49529</td>\n",
       "      <td>John Carter</td>\n",
       "      <td>43.926995</td>\n",
       "      <td>6</td>\n",
       "      <td>2124</td>\n",
       "      <td>https://image.tmdb.org/t/p/w185//lCxz1Yus07QCQ...</td>\n",
       "      <td>https://image.tmdb.org/t/p/w342//lCxz1Yus07QCQ...</td>\n",
       "      <td>https://image.tmdb.org/t/p/w154//lCxz1Yus07QCQ...</td>\n",
       "      <td>5.965451</td>\n",
       "    </tr>\n",
       "  </tbody>\n",
       "</table>\n",
       "</div>"
      ],
      "text/plain": [
       "       id                                     title  popularity  vote_average  \\\n",
       "0   19995                                    Avatar  150.437577             7   \n",
       "1     285  Pirates of the Caribbean: At World's End  139.082615             6   \n",
       "2  206647                                   Spectre  107.376788             6   \n",
       "3   49026                     The Dark Knight Rises  112.312950             7   \n",
       "4   49529                               John Carter   43.926995             6   \n",
       "\n",
       "   vote_count                                   poster_link_w185  \\\n",
       "0       11800  https://image.tmdb.org/t/p/w185//jRXYjXNq0Cs2T...   \n",
       "1        4500  https://image.tmdb.org/t/p/w185//jGWpG4YhpQwVm...   \n",
       "2        4466  https://image.tmdb.org/t/p/w185//672kUEMtTHcaV...   \n",
       "3        9106  https://image.tmdb.org/t/p/w185//85cWkCVftiVs0...   \n",
       "4        2124  https://image.tmdb.org/t/p/w185//lCxz1Yus07QCQ...   \n",
       "\n",
       "                                    poster_link_w342  \\\n",
       "0  https://image.tmdb.org/t/p/w342//jRXYjXNq0Cs2T...   \n",
       "1  https://image.tmdb.org/t/p/w342//jGWpG4YhpQwVm...   \n",
       "2  https://image.tmdb.org/t/p/w342//672kUEMtTHcaV...   \n",
       "3  https://image.tmdb.org/t/p/w342//85cWkCVftiVs0...   \n",
       "4  https://image.tmdb.org/t/p/w342//lCxz1Yus07QCQ...   \n",
       "\n",
       "                                    poster_link_w154        wr  \n",
       "0  https://image.tmdb.org/t/p/w154//jRXYjXNq0Cs2T...  6.973534  \n",
       "1  https://image.tmdb.org/t/p/w154//jGWpG4YhpQwVm...  5.982780  \n",
       "2  https://image.tmdb.org/t/p/w154//672kUEMtTHcaV...  5.982656  \n",
       "3  https://image.tmdb.org/t/p/w154//85cWkCVftiVs0...  6.965903  \n",
       "4  https://image.tmdb.org/t/p/w154//lCxz1Yus07QCQ...  5.965451  "
      ]
     },
     "execution_count": 15,
     "metadata": {},
     "output_type": "execute_result"
    }
   ],
   "source": [
    "popularMovies.head(5)"
   ]
  },
  {
   "cell_type": "code",
   "execution_count": 16,
   "id": "c6e855ed",
   "metadata": {},
   "outputs": [],
   "source": [
    "popularMovies = popularMovies.sort_values('wr', ascending=False)"
   ]
  },
  {
   "cell_type": "code",
   "execution_count": 17,
   "id": "92953e60",
   "metadata": {},
   "outputs": [
    {
     "data": {
      "text/html": [
       "<div>\n",
       "<style scoped>\n",
       "    .dataframe tbody tr th:only-of-type {\n",
       "        vertical-align: middle;\n",
       "    }\n",
       "\n",
       "    .dataframe tbody tr th {\n",
       "        vertical-align: top;\n",
       "    }\n",
       "\n",
       "    .dataframe thead th {\n",
       "        text-align: right;\n",
       "    }\n",
       "</style>\n",
       "<table border=\"1\" class=\"dataframe\">\n",
       "  <thead>\n",
       "    <tr style=\"text-align: right;\">\n",
       "      <th></th>\n",
       "      <th>id</th>\n",
       "      <th>title</th>\n",
       "      <th>popularity</th>\n",
       "      <th>vote_average</th>\n",
       "      <th>vote_count</th>\n",
       "      <th>poster_link_w185</th>\n",
       "      <th>poster_link_w342</th>\n",
       "      <th>poster_link_w154</th>\n",
       "      <th>wr</th>\n",
       "    </tr>\n",
       "  </thead>\n",
       "  <tbody>\n",
       "    <tr>\n",
       "      <th>96</th>\n",
       "      <td>27205</td>\n",
       "      <td>Inception</td>\n",
       "      <td>167.583710</td>\n",
       "      <td>8</td>\n",
       "      <td>13752</td>\n",
       "      <td>https://image.tmdb.org/t/p/w185//edv5CZvWj09up...</td>\n",
       "      <td>https://image.tmdb.org/t/p/w342//edv5CZvWj09up...</td>\n",
       "      <td>https://image.tmdb.org/t/p/w154//edv5CZvWj09up...</td>\n",
       "      <td>7.960285</td>\n",
       "    </tr>\n",
       "    <tr>\n",
       "      <th>65</th>\n",
       "      <td>155</td>\n",
       "      <td>The Dark Knight</td>\n",
       "      <td>187.322927</td>\n",
       "      <td>8</td>\n",
       "      <td>12002</td>\n",
       "      <td>https://image.tmdb.org/t/p/w185//qJ2tW6WMUDux9...</td>\n",
       "      <td>https://image.tmdb.org/t/p/w342//qJ2tW6WMUDux9...</td>\n",
       "      <td>https://image.tmdb.org/t/p/w154//qJ2tW6WMUDux9...</td>\n",
       "      <td>7.954607</td>\n",
       "    </tr>\n",
       "    <tr>\n",
       "      <th>95</th>\n",
       "      <td>157336</td>\n",
       "      <td>Interstellar</td>\n",
       "      <td>724.247784</td>\n",
       "      <td>8</td>\n",
       "      <td>10867</td>\n",
       "      <td>https://image.tmdb.org/t/p/w185//gEU2QniE6E77N...</td>\n",
       "      <td>https://image.tmdb.org/t/p/w342//gEU2QniE6E77N...</td>\n",
       "      <td>https://image.tmdb.org/t/p/w154//gEU2QniE6E77N...</td>\n",
       "      <td>7.949967</td>\n",
       "    </tr>\n",
       "    <tr>\n",
       "      <th>662</th>\n",
       "      <td>550</td>\n",
       "      <td>Fight Club</td>\n",
       "      <td>146.757391</td>\n",
       "      <td>8</td>\n",
       "      <td>9413</td>\n",
       "      <td>https://image.tmdb.org/t/p/w185//pB8BM7pdSp6B6...</td>\n",
       "      <td>https://image.tmdb.org/t/p/w342//pB8BM7pdSp6B6...</td>\n",
       "      <td>https://image.tmdb.org/t/p/w154//pB8BM7pdSp6B6...</td>\n",
       "      <td>7.942428</td>\n",
       "    </tr>\n",
       "    <tr>\n",
       "      <th>262</th>\n",
       "      <td>120</td>\n",
       "      <td>The Lord of the Rings: The Fellowship of the Ring</td>\n",
       "      <td>138.049577</td>\n",
       "      <td>8</td>\n",
       "      <td>8705</td>\n",
       "      <td>https://image.tmdb.org/t/p/w185//6oom5QYQ2yQTM...</td>\n",
       "      <td>https://image.tmdb.org/t/p/w342//6oom5QYQ2yQTM...</td>\n",
       "      <td>https://image.tmdb.org/t/p/w154//6oom5QYQ2yQTM...</td>\n",
       "      <td>7.937870</td>\n",
       "    </tr>\n",
       "  </tbody>\n",
       "</table>\n",
       "</div>"
      ],
      "text/plain": [
       "         id                                              title  popularity  \\\n",
       "96    27205                                          Inception  167.583710   \n",
       "65      155                                    The Dark Knight  187.322927   \n",
       "95   157336                                       Interstellar  724.247784   \n",
       "662     550                                         Fight Club  146.757391   \n",
       "262     120  The Lord of the Rings: The Fellowship of the Ring  138.049577   \n",
       "\n",
       "     vote_average  vote_count  \\\n",
       "96              8       13752   \n",
       "65              8       12002   \n",
       "95              8       10867   \n",
       "662             8        9413   \n",
       "262             8        8705   \n",
       "\n",
       "                                      poster_link_w185  \\\n",
       "96   https://image.tmdb.org/t/p/w185//edv5CZvWj09up...   \n",
       "65   https://image.tmdb.org/t/p/w185//qJ2tW6WMUDux9...   \n",
       "95   https://image.tmdb.org/t/p/w185//gEU2QniE6E77N...   \n",
       "662  https://image.tmdb.org/t/p/w185//pB8BM7pdSp6B6...   \n",
       "262  https://image.tmdb.org/t/p/w185//6oom5QYQ2yQTM...   \n",
       "\n",
       "                                      poster_link_w342  \\\n",
       "96   https://image.tmdb.org/t/p/w342//edv5CZvWj09up...   \n",
       "65   https://image.tmdb.org/t/p/w342//qJ2tW6WMUDux9...   \n",
       "95   https://image.tmdb.org/t/p/w342//gEU2QniE6E77N...   \n",
       "662  https://image.tmdb.org/t/p/w342//pB8BM7pdSp6B6...   \n",
       "262  https://image.tmdb.org/t/p/w342//6oom5QYQ2yQTM...   \n",
       "\n",
       "                                      poster_link_w154        wr  \n",
       "96   https://image.tmdb.org/t/p/w154//edv5CZvWj09up...  7.960285  \n",
       "65   https://image.tmdb.org/t/p/w154//qJ2tW6WMUDux9...  7.954607  \n",
       "95   https://image.tmdb.org/t/p/w154//gEU2QniE6E77N...  7.949967  \n",
       "662  https://image.tmdb.org/t/p/w154//pB8BM7pdSp6B6...  7.942428  \n",
       "262  https://image.tmdb.org/t/p/w154//6oom5QYQ2yQTM...  7.937870  "
      ]
     },
     "execution_count": 17,
     "metadata": {},
     "output_type": "execute_result"
    }
   ],
   "source": [
    "popularMovies.head(5)"
   ]
  },
  {
   "cell_type": "code",
   "execution_count": 19,
   "id": "561157a4",
   "metadata": {},
   "outputs": [],
   "source": [
    "import pickle\n",
    "pickle.dump(popularMovies, open(\"TopRatedMovies.pkl\",'wb'))"
   ]
  },
  {
   "cell_type": "code",
   "execution_count": null,
   "id": "e8ce89b8",
   "metadata": {},
   "outputs": [],
   "source": [
    "# popularMovies "
   ]
  }
 ],
 "metadata": {
  "kernelspec": {
   "display_name": "Python 3 (ipykernel)",
   "language": "python",
   "name": "python3"
  },
  "language_info": {
   "codemirror_mode": {
    "name": "ipython",
    "version": 3
   },
   "file_extension": ".py",
   "mimetype": "text/x-python",
   "name": "python",
   "nbconvert_exporter": "python",
   "pygments_lexer": "ipython3",
   "version": "3.9.13"
  }
 },
 "nbformat": 4,
 "nbformat_minor": 5
}
